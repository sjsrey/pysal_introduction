{
 "metadata": {
  "name": ""
 },
 "nbformat": 3,
 "nbformat_minor": 0,
 "worksheets": [
  {
   "cells": [
    {
     "cell_type": "code",
     "collapsed": false,
     "input": [
      "import pysal as ps\n",
      "import numpy as np\n",
      "import pandas as pd\n",
      "import folium"
     ],
     "language": "python",
     "metadata": {},
     "outputs": [],
     "prompt_number": 1
    },
    {
     "cell_type": "code",
     "collapsed": false,
     "input": [
      "dbf_path = ps.examples.get_path(\"south.dbf\")\n",
      "shp_path = \".\".join([dbf_path.split(\".\")[0],\"shp\"])"
     ],
     "language": "python",
     "metadata": {},
     "outputs": [],
     "prompt_number": 2
    },
    {
     "cell_type": "code",
     "collapsed": false,
     "input": [
      "dbf = ps.open(dbf_path)"
     ],
     "language": "python",
     "metadata": {},
     "outputs": [],
     "prompt_number": 3
    },
    {
     "cell_type": "code",
     "collapsed": false,
     "input": [
      "variable_names = dbf.header"
     ],
     "language": "python",
     "metadata": {},
     "outputs": [],
     "prompt_number": 4
    },
    {
     "cell_type": "code",
     "collapsed": true,
     "input": [
      "variable_names"
     ],
     "language": "python",
     "metadata": {},
     "outputs": [
      {
       "metadata": {},
       "output_type": "pyout",
       "prompt_number": 5,
       "text": [
        "['FIPSNO',\n",
        " 'NAME',\n",
        " 'STATE_NAME',\n",
        " 'STATE_FIPS',\n",
        " 'CNTY_FIPS',\n",
        " 'FIPS',\n",
        " 'STFIPS',\n",
        " 'COFIPS',\n",
        " 'SOUTH',\n",
        " 'HR60',\n",
        " 'HR70',\n",
        " 'HR80',\n",
        " 'HR90',\n",
        " 'HC60',\n",
        " 'HC70',\n",
        " 'HC80',\n",
        " 'HC90',\n",
        " 'PO60',\n",
        " 'PO70',\n",
        " 'PO80',\n",
        " 'PO90',\n",
        " 'RD60',\n",
        " 'RD70',\n",
        " 'RD80',\n",
        " 'RD90',\n",
        " 'PS60',\n",
        " 'PS70',\n",
        " 'PS80',\n",
        " 'PS90',\n",
        " 'UE60',\n",
        " 'UE70',\n",
        " 'UE80',\n",
        " 'UE90',\n",
        " 'DV60',\n",
        " 'DV70',\n",
        " 'DV80',\n",
        " 'DV90',\n",
        " 'MA60',\n",
        " 'MA70',\n",
        " 'MA80',\n",
        " 'MA90',\n",
        " 'POL60',\n",
        " 'POL70',\n",
        " 'POL80',\n",
        " 'POL90',\n",
        " 'DNL60',\n",
        " 'DNL70',\n",
        " 'DNL80',\n",
        " 'DNL90',\n",
        " 'MFIL59',\n",
        " 'MFIL69',\n",
        " 'MFIL79',\n",
        " 'MFIL89',\n",
        " 'FP59',\n",
        " 'FP69',\n",
        " 'FP79',\n",
        " 'FP89',\n",
        " 'BLK60',\n",
        " 'BLK70',\n",
        " 'BLK80',\n",
        " 'BLK90',\n",
        " 'GI59',\n",
        " 'GI69',\n",
        " 'GI79',\n",
        " 'GI89',\n",
        " 'FH60',\n",
        " 'FH70',\n",
        " 'FH80',\n",
        " 'FH90']"
       ]
      }
     ],
     "prompt_number": 5
    },
    {
     "cell_type": "code",
     "collapsed": false,
     "input": [
      "hr_vars = [ \"HR%2d\"%year for year in range(60,95,10) ] "
     ],
     "language": "python",
     "metadata": {},
     "outputs": [],
     "prompt_number": 6
    },
    {
     "cell_type": "code",
     "collapsed": false,
     "input": [
      "hr_vars"
     ],
     "language": "python",
     "metadata": {},
     "outputs": [
      {
       "metadata": {},
       "output_type": "pyout",
       "prompt_number": 7,
       "text": [
        "['HR60', 'HR70', 'HR80', 'HR90']"
       ]
      }
     ],
     "prompt_number": 7
    },
    {
     "cell_type": "code",
     "collapsed": false,
     "input": [
      "hr_mat = np.array([dbf.by_col(var) for var in hr_vars]).T"
     ],
     "language": "python",
     "metadata": {},
     "outputs": [],
     "prompt_number": 8
    },
    {
     "cell_type": "code",
     "collapsed": false,
     "input": [
      "hr_mat.shape"
     ],
     "language": "python",
     "metadata": {},
     "outputs": [
      {
       "metadata": {},
       "output_type": "pyout",
       "prompt_number": 9,
       "text": [
        "(1412, 4)"
       ]
      }
     ],
     "prompt_number": 9
    },
    {
     "cell_type": "markdown",
     "metadata": {},
     "source": [
      "## Descriptive Statistics"
     ]
    },
    {
     "cell_type": "code",
     "collapsed": false,
     "input": [
      "hr_means = hr_mat.mean(axis=0)\n",
      "hr_std = hr_mat.std(axis=0)\n",
      "hr_cv = hr_std / hr_means"
     ],
     "language": "python",
     "metadata": {},
     "outputs": [],
     "prompt_number": 10
    },
    {
     "cell_type": "code",
     "collapsed": false,
     "input": [
      "hr_means"
     ],
     "language": "python",
     "metadata": {},
     "outputs": [
      {
       "metadata": {},
       "output_type": "pyout",
       "prompt_number": 11,
       "text": [
        "array([  7.29214433,  10.39661412,  10.19447769,   9.54929316])"
       ]
      }
     ],
     "prompt_number": 11
    },
    {
     "cell_type": "code",
     "collapsed": false,
     "input": [
      "hr_std"
     ],
     "language": "python",
     "metadata": {},
     "outputs": [
      {
       "metadata": {},
       "output_type": "pyout",
       "prompt_number": 12,
       "text": [
        "array([ 6.41874356,  7.97446253,  6.51446926,  7.03635793])"
       ]
      }
     ],
     "prompt_number": 12
    },
    {
     "cell_type": "code",
     "collapsed": false,
     "input": [
      "hr_cv"
     ],
     "language": "python",
     "metadata": {},
     "outputs": [
      {
       "metadata": {},
       "output_type": "pyout",
       "prompt_number": 13,
       "text": [
        "array([ 0.88022717,  0.76702496,  0.63901942,  0.73684594])"
       ]
      }
     ],
     "prompt_number": 13
    },
    {
     "cell_type": "code",
     "collapsed": false,
     "input": [
      "boxplot(hr_mat)\n",
      "xticks(range(1,5), ['1960', '1970', '1980', '1990'])\n",
      "ylabel('HR')\n",
      "savefig('bp.png', dpi=600)"
     ],
     "language": "python",
     "metadata": {},
     "outputs": [
      {
       "metadata": {},
       "output_type": "display_data",
       "png": "[encoded data removed]",
       "text": [
        "<matplotlib.figure.Figure at 0x10adc1850>"
       ]
      }
     ],
     "prompt_number": 14
    },
    {
     "cell_type": "markdown",
     "metadata": {},
     "source": [
      "## Global Autocorrelation Analysis"
     ]
    },
    {
     "cell_type": "code",
     "collapsed": false,
     "input": [
      "wq = ps.queen_from_shapefile(shp_path)\n",
      "wr = ps.rook_from_shapefile(shp_path)"
     ],
     "language": "python",
     "metadata": {},
     "outputs": [],
     "prompt_number": 15
    },
    {
     "cell_type": "code",
     "collapsed": false,
     "input": [
      "wq.n"
     ],
     "language": "python",
     "metadata": {},
     "outputs": [
      {
       "metadata": {},
       "output_type": "pyout",
       "prompt_number": 16,
       "text": [
        "1412"
       ]
      }
     ],
     "prompt_number": 16
    },
    {
     "cell_type": "code",
     "collapsed": false,
     "input": [
      "wq.transform = 'r'\n",
      "wr.transform = 'r'\n"
     ],
     "language": "python",
     "metadata": {},
     "outputs": [],
     "prompt_number": 17
    },
    {
     "cell_type": "code",
     "collapsed": false,
     "input": [
      "# set random number generator seed for replication purposes\n",
      "np.random.seed(12345)\n",
      "mi_res_q = [ps.Moran(v,wq) for v in hr_mat.T]\n",
      "mi_res_r = [ps.Moran(v,wr) for v in hr_mat.T]\n"
     ],
     "language": "python",
     "metadata": {},
     "outputs": [],
     "prompt_number": 18
    },
    {
     "cell_type": "code",
     "collapsed": false,
     "input": [
      "len(mi_res_q)"
     ],
     "language": "python",
     "metadata": {},
     "outputs": [
      {
       "metadata": {},
       "output_type": "pyout",
       "prompt_number": 24,
       "text": [
        "4"
       ]
      }
     ],
     "prompt_number": 24
    },
    {
     "cell_type": "code",
     "collapsed": true,
     "input": [
      "for i,var in enumerate(hr_vars):\n",
      "    print var, mi_res_q[i].I, mi_res_q[i].p_sim, mi_res_r[i].p_sim"
     ],
     "language": "python",
     "metadata": {},
     "outputs": [
      {
       "output_type": "stream",
       "stream": "stdout",
       "text": [
        "HR60 0.215862353982 0.001 0.001\n",
        "HR70 0.262159156049 0.001 0.001\n",
        "HR80 0.252115265218 0.001 0.001\n",
        "HR90 0.256993382909 0.001 0.001\n"
       ]
      }
     ],
     "prompt_number": 25
    },
    {
     "cell_type": "markdown",
     "metadata": {},
     "source": [
      "## Spatial Dynamics"
     ]
    },
    {
     "cell_type": "markdown",
     "metadata": {},
     "source": [
      "### Classic Markov Chains"
     ]
    },
    {
     "cell_type": "code",
     "collapsed": false,
     "input": [
      "hr_q = [ ps.Quantiles(v,k=5) for v in hr_mat.T]"
     ],
     "language": "python",
     "metadata": {},
     "outputs": [],
     "prompt_number": 26
    },
    {
     "cell_type": "code",
     "collapsed": false,
     "input": [
      "for i in range(4):\n",
      "    print hr_q[i]"
     ],
     "language": "python",
     "metadata": {},
     "outputs": [
      {
       "output_type": "stream",
       "stream": "stdout",
       "text": [
        "                Quantiles                \n",
        " \n",
        "Lower            Upper              Count\n",
        "=========================================\n",
        "         x[i] <=  2.497               283\n",
        " 2.497 < x[i] <=  5.104               282\n",
        " 5.104 < x[i] <=  7.621               282\n",
        " 7.621 < x[i] <= 10.981               282\n",
        "10.981 < x[i] <= 92.937               283\n",
        "                Quantiles                \n",
        " \n",
        "Lower            Upper              Count\n",
        "=========================================\n",
        "         x[i] <=  4.136               283\n",
        " 4.136 < x[i] <=  7.479               282\n",
        " 7.479 < x[i] <= 10.926               282\n",
        "10.926 < x[i] <= 15.460               282\n",
        "15.460 < x[i] <= 71.839               283\n",
        "                Quantiles                \n",
        " \n",
        "Lower            Upper              Count\n",
        "=========================================\n",
        "         x[i] <=  4.795               283\n",
        " 4.795 < x[i] <=  7.850               282\n",
        " 7.850 < x[i] <= 10.917               282\n",
        "10.917 < x[i] <= 15.033               282\n",
        "15.033 < x[i] <= 42.343               283\n",
        "                Quantiles                \n",
        " \n",
        "Lower            Upper              Count\n",
        "=========================================\n",
        "         x[i] <=  4.180               283\n",
        " 4.180 < x[i] <=  6.904               282\n",
        " 6.904 < x[i] <=  9.783               282\n",
        " 9.783 < x[i] <= 14.278               282\n",
        "14.278 < x[i] <= 64.261               283\n"
       ]
      }
     ],
     "prompt_number": 27
    },
    {
     "cell_type": "code",
     "collapsed": false,
     "input": [
      "h0 = hr_q[0]"
     ],
     "language": "python",
     "metadata": {},
     "outputs": [],
     "prompt_number": 28
    },
    {
     "cell_type": "code",
     "collapsed": false,
     "input": [
      "qs = np.array([ h.bins for h in hr_q])"
     ],
     "language": "python",
     "metadata": {},
     "outputs": [],
     "prompt_number": 29
    },
    {
     "cell_type": "code",
     "collapsed": false,
     "input": [
      "for q in qs.T:\n",
      "    plot(q)"
     ],
     "language": "python",
     "metadata": {},
     "outputs": [
      {
       "metadata": {},
       "output_type": "display_data",
       "png": "[encoded data removed]",
       "text": [
        "<matplotlib.figure.Figure at 0x10ade3f50>"
       ]
      }
     ],
     "prompt_number": 30
    },
    {
     "cell_type": "code",
     "collapsed": false,
     "input": [],
     "language": "python",
     "metadata": {},
     "outputs": [],
     "prompt_number": 30
    },
    {
     "cell_type": "code",
     "collapsed": false,
     "input": [
      "hr_q_bin_ids = np.array([ y.yb for y in hr_q ]).T"
     ],
     "language": "python",
     "metadata": {},
     "outputs": [],
     "prompt_number": 31
    },
    {
     "cell_type": "code",
     "collapsed": false,
     "input": [
      "hr_q_bin_ids.shape"
     ],
     "language": "python",
     "metadata": {},
     "outputs": [
      {
       "metadata": {},
       "output_type": "pyout",
       "prompt_number": 32,
       "text": [
        "(1412, 4)"
       ]
      }
     ],
     "prompt_number": 32
    },
    {
     "cell_type": "code",
     "collapsed": false,
     "input": [
      "cm = ps.Markov(hr_q_bin_ids)"
     ],
     "language": "python",
     "metadata": {},
     "outputs": [],
     "prompt_number": 33
    },
    {
     "cell_type": "code",
     "collapsed": false,
     "input": [
      "np.set_printoptions(precision=3)"
     ],
     "language": "python",
     "metadata": {},
     "outputs": [],
     "prompt_number": 34
    },
    {
     "cell_type": "code",
     "collapsed": false,
     "input": [
      "cm.p"
     ],
     "language": "python",
     "metadata": {},
     "outputs": [
      {
       "metadata": {},
       "output_type": "pyout",
       "prompt_number": 35,
       "text": [
        "matrix([[ 0.431,  0.253,  0.128,  0.099,  0.088],\n",
        "        [ 0.24 ,  0.291,  0.241,  0.145,  0.083],\n",
        "        [ 0.154,  0.214,  0.277,  0.221,  0.135],\n",
        "        [ 0.106,  0.15 ,  0.215,  0.271,  0.258],\n",
        "        [ 0.071,  0.091,  0.138,  0.263,  0.438]])"
       ]
      }
     ],
     "prompt_number": 35
    },
    {
     "cell_type": "code",
     "collapsed": false,
     "input": [
      "p = cm.p.tofile?"
     ],
     "language": "python",
     "metadata": {},
     "outputs": [],
     "prompt_number": 37
    },
    {
     "cell_type": "code",
     "collapsed": false,
     "input": [
      "p = cm.p.tofile"
     ],
     "language": "python",
     "metadata": {},
     "outputs": [],
     "prompt_number": 38
    },
    {
     "cell_type": "code",
     "collapsed": false,
     "input": [
      "p = cm.p.tofile"
     ],
     "language": "python",
     "metadata": {},
     "outputs": [],
     "prompt_number": 39
    },
    {
     "cell_type": "code",
     "collapsed": false,
     "input": [
      "p = cm.p.tofile('p.tex', sep=\"&\", format=\"%.3f\")"
     ],
     "language": "python",
     "metadata": {},
     "outputs": [],
     "prompt_number": 40
    },
    {
     "cell_type": "code",
     "collapsed": false,
     "input": [
      "cm.steady_state"
     ],
     "language": "python",
     "metadata": {},
     "outputs": [
      {
       "metadata": {},
       "output_type": "pyout",
       "prompt_number": 47,
       "text": [
        "matrix([[ 0.2],\n",
        "        [ 0.2],\n",
        "        [ 0.2],\n",
        "        [ 0.2],\n",
        "        [ 0.2]])"
       ]
      }
     ],
     "prompt_number": 47
    },
    {
     "cell_type": "code",
     "collapsed": false,
     "input": [
      "ps.spatial_dynamics.shorrock(cm.p):w\n",
      "    jj"
     ],
     "language": "python",
     "metadata": {},
     "outputs": [
      {
       "metadata": {},
       "output_type": "pyout",
       "prompt_number": 41,
       "text": [
        "0.82317014593723115"
       ]
      }
     ],
     "prompt_number": 41
    },
    {
     "cell_type": "code",
     "collapsed": false,
     "input": [
      "ps.spatial_dynamics.prais(cm.p)"
     ],
     "language": "python",
     "metadata": {},
     "outputs": [
      {
       "metadata": {},
       "output_type": "pyout",
       "prompt_number": 42,
       "text": [
        "matrix([[ 0.569,  0.709,  0.723,  0.729,  0.562]])"
       ]
      }
     ],
     "prompt_number": 42
    },
    {
     "cell_type": "code",
     "collapsed": false,
     "input": [
      "cm.transitions"
     ],
     "language": "python",
     "metadata": {},
     "outputs": [
      {
       "metadata": {},
       "output_type": "pyout",
       "prompt_number": 43,
       "text": [
        "array([[ 366.,  215.,  109.,   84.,   75.],\n",
        "       [ 203.,  246.,  204.,  123.,   70.],\n",
        "       [ 130.,  181.,  234.,  187.,  114.],\n",
        "       [  90.,  127.,  182.,  229.,  218.],\n",
        "       [  60.,   77.,  117.,  223.,  372.]])"
       ]
      }
     ],
     "prompt_number": 43
    },
    {
     "cell_type": "code",
     "collapsed": false,
     "input": [
      "sm = ps.Spatial_Markov(hr_mat, wq, k=5)"
     ],
     "language": "python",
     "metadata": {},
     "outputs": [
      {
       "output_type": "stream",
       "stream": "stderr",
       "text": [
        "/Users/serge/Documents/p/pysal/src/pysal/pysal/spatial_dynamics/markov.py:468: ComplexWarning: Casting complex values to real discards the imaginary part\n",
        "  ss[i] = steady_state(p_i).transpose()\n",
        "/Users/serge/Documents/p/pysal/src/pysal/pysal/spatial_dynamics/ergodic.py:119: ComplexWarning: Casting complex values to real discards the imaginary part\n",
        "  A[:, i] = ss\n"
       ]
      }
     ],
     "prompt_number": 44
    },
    {
     "cell_type": "code",
     "collapsed": false,
     "input": [
      "sm.P"
     ],
     "language": "python",
     "metadata": {},
     "outputs": [
      {
       "metadata": {},
       "output_type": "pyout",
       "prompt_number": 45,
       "text": [
        "array([[[ 0.528,  0.218,  0.106,  0.095,  0.053],\n",
        "        [ 0.382,  0.259,  0.195,  0.109,  0.055],\n",
        "        [ 0.271,  0.243,  0.25 ,  0.194,  0.042],\n",
        "        [ 0.288,  0.192,  0.219,  0.137,  0.164],\n",
        "        [ 0.352,  0.074,  0.259,  0.111,  0.204]],\n",
        "\n",
        "       [[ 0.473,  0.268,  0.123,  0.077,  0.059],\n",
        "        [ 0.219,  0.321,  0.232,  0.161,  0.067],\n",
        "        [ 0.235,  0.246,  0.278,  0.182,  0.059],\n",
        "        [ 0.218,  0.155,  0.211,  0.261,  0.155],\n",
        "        [ 0.096,  0.233,  0.192,  0.178,  0.301]],\n",
        "\n",
        "       [[ 0.299,  0.328,  0.164,  0.104,  0.104],\n",
        "        [ 0.218,  0.326,  0.249,  0.13 ,  0.078],\n",
        "        [ 0.076,  0.24 ,  0.292,  0.263,  0.129],\n",
        "        [ 0.091,  0.217,  0.202,  0.293,  0.197],\n",
        "        [ 0.053,  0.127,  0.167,  0.273,  0.38 ]],\n",
        "\n",
        "       [[ 0.21 ,  0.309,  0.173,  0.123,  0.185],\n",
        "        [ 0.143,  0.286,  0.316,  0.15 ,  0.105],\n",
        "        [ 0.119,  0.206,  0.299,  0.216,  0.16 ],\n",
        "        [ 0.045,  0.104,  0.27 ,  0.284,  0.297],\n",
        "        [ 0.042,  0.083,  0.125,  0.287,  0.463]],\n",
        "\n",
        "       [[ 0.286,  0.161,  0.143,  0.161,  0.25 ],\n",
        "        [ 0.118,  0.211,  0.25 ,  0.237,  0.184],\n",
        "        [ 0.073,  0.127,  0.253,  0.253,  0.293],\n",
        "        [ 0.047,  0.118,  0.171,  0.289,  0.374],\n",
        "        [ 0.048,  0.053,  0.104,  0.284,  0.511]]])"
       ]
      }
     ],
     "prompt_number": 45
    },
    {
     "cell_type": "code",
     "collapsed": false,
     "input": [
      "p = sm.P.tofile('sp.tex', sep=\"&\", format=\"%.3f\")"
     ],
     "language": "python",
     "metadata": {},
     "outputs": [],
     "prompt_number": 46
    },
    {
     "cell_type": "code",
     "collapsed": false,
     "input": [
      "sm.T\n"
     ],
     "language": "python",
     "metadata": {},
     "outputs": [
      {
       "metadata": {},
       "output_type": "pyout",
       "prompt_number": 50,
       "text": [
        "array([[[ 189.,   78.,   38.,   34.,   19.],\n",
        "        [  84.,   57.,   43.,   24.,   12.],\n",
        "        [  39.,   35.,   36.,   28.,    6.],\n",
        "        [  21.,   14.,   16.,   10.,   12.],\n",
        "        [  19.,    4.,   14.,    6.,   11.]],\n",
        "\n",
        "       [[ 104.,   59.,   27.,   17.,   13.],\n",
        "        [  49.,   72.,   52.,   36.,   15.],\n",
        "        [  44.,   46.,   52.,   34.,   11.],\n",
        "        [  31.,   22.,   30.,   37.,   22.],\n",
        "        [   7.,   17.,   14.,   13.,   22.]],\n",
        "\n",
        "       [[  40.,   44.,   22.,   14.,   14.],\n",
        "        [  42.,   63.,   48.,   25.,   15.],\n",
        "        [  13.,   41.,   50.,   45.,   22.],\n",
        "        [  18.,   43.,   40.,   58.,   39.],\n",
        "        [   8.,   19.,   25.,   41.,   57.]],\n",
        "\n",
        "       [[  17.,   25.,   14.,   10.,   15.],\n",
        "        [  19.,   38.,   42.,   20.,   14.],\n",
        "        [  23.,   40.,   58.,   42.,   31.],\n",
        "        [  10.,   23.,   60.,   63.,   66.],\n",
        "        [   9.,   18.,   27.,   62.,  100.]],\n",
        "\n",
        "       [[  16.,    9.,    8.,    9.,   14.],\n",
        "        [   9.,   16.,   19.,   18.,   14.],\n",
        "        [  11.,   19.,   38.,   38.,   44.],\n",
        "        [  10.,   25.,   36.,   61.,   79.],\n",
        "        [  17.,   19.,   37.,  101.,  182.]]])"
       ]
      }
     ],
     "prompt_number": 50
    },
    {
     "cell_type": "code",
     "collapsed": false,
     "input": [
      "sm.S"
     ],
     "language": "python",
     "metadata": {},
     "outputs": [
      {
       "metadata": {},
       "output_type": "pyout",
       "prompt_number": 39,
       "text": [
        "array([[ 0.408,  0.217,  0.176,  0.122,  0.076],\n",
        "       [ 0.281,  0.256,  0.203,  0.159,  0.101],\n",
        "       [ 0.142,  0.25 ,  0.222,  0.215,  0.17 ],\n",
        "       [ 0.094,  0.173,  0.237,  0.23 ,  0.265],\n",
        "       [ 0.078,  0.108,  0.165,  0.265,  0.383]])"
       ]
      }
     ],
     "prompt_number": 39
    },
    {
     "cell_type": "code",
     "collapsed": false,
     "input": [
      "sm.chi2"
     ],
     "language": "python",
     "metadata": {},
     "outputs": [
      {
       "metadata": {},
       "output_type": "pyout",
       "prompt_number": 51,
       "text": [
        "[(173.52628657517519, 0.0, 16),\n",
        " (71.159507718251092, 6.2462540695307212e-09, 16),\n",
        " (35.40080907194907, 0.0035014972608470307, 16),\n",
        " (52.040505996419945, 1.0790250587255912e-05, 16),\n",
        " (122.14223778342712, 0.0, 16)]"
       ]
      }
     ],
     "prompt_number": 51
    },
    {
     "cell_type": "code",
     "collapsed": false,
     "input": [
      "sm.x2"
     ],
     "language": "python",
     "metadata": {},
     "outputs": [
      {
       "metadata": {},
       "output_type": "pyout",
       "prompt_number": 53,
       "text": [
        "454.26934714522241"
       ]
      }
     ],
     "prompt_number": 53
    },
    {
     "cell_type": "code",
     "collapsed": false,
     "input": [
      "sm.x2_dof"
     ],
     "language": "python",
     "metadata": {},
     "outputs": [
      {
       "metadata": {},
       "output_type": "pyout",
       "prompt_number": 54,
       "text": [
        "80"
       ]
      }
     ],
     "prompt_number": 54
    },
    {
     "cell_type": "code",
     "collapsed": false,
     "input": [
      "sm.x2_pvalue"
     ],
     "language": "python",
     "metadata": {},
     "outputs": [
      {
       "metadata": {},
       "output_type": "pyout",
       "prompt_number": 55,
       "text": [
        "0.0"
       ]
      }
     ],
     "prompt_number": 55
    },
    {
     "cell_type": "code",
     "collapsed": false,
     "input": [
      "help(sm)"
     ],
     "language": "python",
     "metadata": {},
     "outputs": [
      {
       "output_type": "stream",
       "stream": "stdout",
       "text": [
        "Help on instance of Spatial_Markov in module pysal.spatial_dynamics.markov:\n",
        "\n",
        "class Spatial_Markov\n",
        " |  Markov transitions conditioned on the value of the spatial lag\n",
        " |  \n",
        " |  Parameters\n",
        " |  ----------\n",
        " |  \n",
        " |  y               : array (n,t)\n",
        " |                    One row per observation, one column per state of each\n",
        " |                    observation, with as many columns as time periods\n",
        " |  \n",
        " |  w               : spatial weights object\n",
        " |  \n",
        " |  k               : integer\n",
        " |                    number of classes (quantiles)\n",
        " |  \n",
        " |  permutations    : int\n",
        " |                    number of permutations (default=0) for use in randomization\n",
        " |                    based inference\n",
        " |  \n",
        " |  fixed           : boolean\n",
        " |                    If true, quantiles are taken over the entire n*t\n",
        " |                    pooled series. If false, quantiles are taken each\n",
        " |                    time period over n.\n",
        " |  \n",
        " |  Attributes\n",
        " |  ----------\n",
        " |  p               : matrix (k, k)\n",
        " |                    transition probability matrix for a-spatial Markov\n",
        " |  s               : matrix (k, 1)\n",
        " |                    ergodic distribution for a-spatial Markov\n",
        " |  transitions     : matrix (k, k)\n",
        " |                    counts of transitions between each state i and j\n",
        " |                    for a-spatial Markov\n",
        " |  T               : matrix (k, k, k)\n",
        " |                    counts of transitions for each conditional Markov\n",
        " |                    T[0] is the matrix of transitions for observations with\n",
        " |                    lags in the 0th quantile, T[k-1] is the transitions for\n",
        " |                    the observations with lags in the k-1th\n",
        " |  P               : matrix(k, k, k)\n",
        " |                    transition probability matrix for spatial Markov\n",
        " |                    first dimension is the conditioned on the lag\n",
        " |  S               : matrix(k, k)\n",
        " |                    steady state distributions for spatial Markov\n",
        " |                    each row is a conditional steady_state\n",
        " |  F               : matrix(k, k, k)\n",
        " |                    first mean passage times\n",
        " |                    first dimension is conditioned on the lag\n",
        " |  shtest          : list (k elements)\n",
        " |                    each element of the list is a tuple for a multinomial\n",
        " |                    difference test between the steady state distribution from\n",
        " |                    a conditional distribution versus the overall steady state\n",
        " |                    distribution, first element of the tuple is the chi2 value,\n",
        " |                    second its p-value and the third the degrees of freedom\n",
        " |  chi2            : list (k elements)\n",
        " |                    each element of the list is a tuple for a chi-squared test\n",
        " |                    of the difference between the conditional transition\n",
        " |                    matrix against the overall transition matrix, first\n",
        " |                    element of the tuple is the chi2 value, second its\n",
        " |                    p-value and the third the degrees of freedom\n",
        " |  x2              : float\n",
        " |                    sum of the chi2 values for each of the conditional tests\n",
        " |                    has an asymptotic chi2 distribution with k(k-1)(k-1)\n",
        " |                    degrees of freedom under the null that transition\n",
        " |                    probabilities are spatially homogeneous\n",
        " |                    (see chi2 above)\n",
        " |  x2_dof          : int\n",
        " |                    degrees of freedom for homogeneity test\n",
        " |  x2_pvalue       : float\n",
        " |                    pvalue for homogeneity test based on analytic\n",
        " |                    distribution\n",
        " |  x2_rpvalue       : float (if permutations>0)\n",
        " |                    pseudo p-value for x2 based on random spatial permutations\n",
        " |                    of the rows of the original transitions\n",
        " |  x2_realizations : array (permutations,1)\n",
        " |                    the values of x2 for the random permutations\n",
        " |  \n",
        " |  Notes\n",
        " |  -----\n",
        " |  Based on  Rey (2001) [1]_\n",
        " |  \n",
        " |  The shtest and chi2 tests should be used with caution as they are based on\n",
        " |  classic theory assuming random transitions. The x2 based test is\n",
        " |  preferable since it simulates the randomness under the null. It is an\n",
        " |  experimental test requiring further analysis.\n",
        " |  \n",
        " |  \n",
        " |  Examples\n",
        " |  --------\n",
        " |  >>> import pysal\n",
        " |  >>> f = pysal.open(pysal.examples.get_path(\"usjoin.csv\"))\n",
        " |  >>> pci = np.array([f.by_col[str(y)] for y in range(1929,2010)])\n",
        " |  >>> pci = pci.transpose()\n",
        " |  >>> rpci = pci/(pci.mean(axis=0))\n",
        " |  >>> w = pysal.open(pysal.examples.get_path(\"states48.gal\")).read()\n",
        " |  >>> w.transform = 'r'\n",
        " |  >>> sm = Spatial_Markov(rpci, w, fixed=True, k=5)\n",
        " |  >>> for p in sm.P:\n",
        " |  ...     print p\n",
        " |  ...\n",
        " |  [[ 0.96341463  0.0304878   0.00609756  0.          0.        ]\n",
        " |   [ 0.06040268  0.83221477  0.10738255  0.          0.        ]\n",
        " |   [ 0.          0.14        0.74        0.12        0.        ]\n",
        " |   [ 0.          0.03571429  0.32142857  0.57142857  0.07142857]\n",
        " |   [ 0.          0.          0.          0.16666667  0.83333333]]\n",
        " |  [[ 0.79831933  0.16806723  0.03361345  0.          0.        ]\n",
        " |   [ 0.0754717   0.88207547  0.04245283  0.          0.        ]\n",
        " |   [ 0.00537634  0.06989247  0.8655914   0.05913978  0.        ]\n",
        " |   [ 0.          0.          0.06372549  0.90196078  0.03431373]\n",
        " |   [ 0.          0.          0.          0.19444444  0.80555556]]\n",
        " |  [[ 0.84693878  0.15306122  0.          0.          0.        ]\n",
        " |   [ 0.08133971  0.78947368  0.1291866   0.          0.        ]\n",
        " |   [ 0.00518135  0.0984456   0.79274611  0.0984456   0.00518135]\n",
        " |   [ 0.          0.          0.09411765  0.87058824  0.03529412]\n",
        " |   [ 0.          0.          0.          0.10204082  0.89795918]]\n",
        " |  [[ 0.8852459   0.09836066  0.          0.01639344  0.        ]\n",
        " |   [ 0.03875969  0.81395349  0.13953488  0.          0.00775194]\n",
        " |   [ 0.0049505   0.09405941  0.77722772  0.11881188  0.0049505 ]\n",
        " |   [ 0.          0.02339181  0.12865497  0.75438596  0.09356725]\n",
        " |   [ 0.          0.          0.          0.09661836  0.90338164]]\n",
        " |  [[ 0.33333333  0.66666667  0.          0.          0.        ]\n",
        " |   [ 0.0483871   0.77419355  0.16129032  0.01612903  0.        ]\n",
        " |   [ 0.01149425  0.16091954  0.74712644  0.08045977  0.        ]\n",
        " |   [ 0.          0.01036269  0.06217617  0.89637306  0.03108808]\n",
        " |   [ 0.          0.          0.          0.02352941  0.97647059]]\n",
        " |  \n",
        " |  The probability of a poor state remaining poor is 0.963 if their\n",
        " |  neighbors are in the 1st quintile and 0.798 if their neighbors are\n",
        " |  in the 2nd quintile. The probability of a rich economy remaining\n",
        " |  rich is 0.977 if their neighbors are in the 5th quintile, but if their\n",
        " |  neighbors are in the 4th quintile this drops to 0.903.\n",
        " |  \n",
        " |  Test if the transitional dynamics are homogeneous across the lag classes\n",
        " |  \n",
        " |  >>> sm.x2\n",
        " |  200.8911757045552\n",
        " |  >>> sm.x2_dof\n",
        " |  80\n",
        " |  >>> sm.x2_pvalue\n",
        " |  2.2487567363782546e-12\n",
        " |  \n",
        " |  >>> sm.S\n",
        " |  array([[ 0.43509425,  0.2635327 ,  0.20363044,  0.06841983,  0.02932278],\n",
        " |         [ 0.13391287,  0.33993305,  0.25153036,  0.23343016,  0.04119356],\n",
        " |         [ 0.12124869,  0.21137444,  0.2635101 ,  0.29013417,  0.1137326 ],\n",
        " |         [ 0.0776413 ,  0.19748806,  0.25352636,  0.22480415,  0.24654013],\n",
        " |         [ 0.01776781,  0.19964349,  0.19009833,  0.25524697,  0.3372434 ]])\n",
        " |  \n",
        " |  The long run distribution for states with poor (rich) neighbors has\n",
        " |  0.435 (0.018) of the values in the first quintile, 0.263 (0.200) in\n",
        " |  the second quintile, 0.204 (0.190) in the third, 0.0684 (0.255) in the\n",
        " |  fourth and 0.029 (0.337) in the fifth quintile.\n",
        " |  \n",
        " |  >>> for f in sm.F:\n",
        " |  ...     print f\n",
        " |  ...\n",
        " |  [[   2.29835259   28.95614035   46.14285714   80.80952381  279.42857143]\n",
        " |   [  33.86549708    3.79459555   22.57142857   57.23809524  255.85714286]\n",
        " |   [  43.60233918    9.73684211    4.91085714   34.66666667  233.28571429]\n",
        " |   [  46.62865497   12.76315789    6.25714286   14.61564626  198.61904762]\n",
        " |   [  52.62865497   18.76315789   12.25714286    6.           34.1031746 ]]\n",
        " |  [[   7.46754205    9.70574606   25.76785714   74.53116883  194.23446197]\n",
        " |   [  27.76691978    2.94175577   24.97142857   73.73474026  193.4380334 ]\n",
        " |   [  53.57477715   28.48447637    3.97566318   48.76331169  168.46660482]\n",
        " |   [  72.03631562   46.94601483   18.46153846    4.28393653  119.70329314]\n",
        " |   [  77.17917276   52.08887197   23.6043956     5.14285714   24.27564033]]\n",
        " |  [[   8.24751154    6.53333333   18.38765432   40.70864198  112.76732026]\n",
        " |   [  47.35040872    4.73094099   11.85432099   34.17530864  106.23398693]\n",
        " |   [  69.42288828   24.76666667    3.794921     22.32098765   94.37966594]\n",
        " |   [  83.72288828   39.06666667   14.3           3.44668119   76.36702977]\n",
        " |   [  93.52288828   48.86666667   24.1           9.8           8.79255406]]\n",
        " |  [[  12.87974382   13.34847151   19.83446328   28.47257282   55.82395142]\n",
        " |   [  99.46114206    5.06359731   10.54545198   23.05133495   49.68944423]\n",
        " |   [ 117.76777159   23.03735526    3.94436301   15.0843986    43.57927247]\n",
        " |   [ 127.89752089   32.4393006    14.56853107    4.44831643   31.63099455]\n",
        " |   [ 138.24752089   42.7893006    24.91853107   10.35          4.05613474]]\n",
        " |  [[  56.2815534     1.5          10.57236842   27.02173913  110.54347826]\n",
        " |   [  82.9223301     5.00892857    9.07236842   25.52173913  109.04347826]\n",
        " |   [  97.17718447   19.53125       5.26043557   21.42391304  104.94565217]\n",
        " |   [ 127.1407767    48.74107143   33.29605263    3.91777427   83.52173913]\n",
        " |   [ 169.6407767    91.24107143   75.79605263   42.5           2.96521739]]\n",
        " |  \n",
        " |  States with incomes in the first quintile with neighbors in the\n",
        " |  first quintile return to the first quartile after 2.298 years, after\n",
        " |  leaving the first quintile. They enter the fourth quintile after\n",
        " |  80.810 years after leaving the first quintile, on average.\n",
        " |  Poor states within neighbors in the fourth quintile return to the\n",
        " |  first quintile, on average, after 12.88 years, and would enter the\n",
        " |  fourth quintile after 28.473 years.\n",
        " |  \n",
        " |  >>> np.matrix(sm.chi2)\n",
        " |  matrix([[  4.06139105e+01,   6.32961385e-04,   1.60000000e+01],\n",
        " |          [  5.55485793e+01,   2.88879565e-06,   1.60000000e+01],\n",
        " |          [  1.77772638e+01,   3.37100315e-01,   1.60000000e+01],\n",
        " |          [  4.00925436e+01,   7.54729084e-04,   1.60000000e+01],\n",
        " |          [  4.68588786e+01,   7.16364084e-05,   1.60000000e+01]])\n",
        " |  >>> np.matrix(sm.shtest)\n",
        " |  matrix([[  4.61209613e+02,   0.00000000e+00,   4.00000000e+00],\n",
        " |          [  1.48140694e+02,   0.00000000e+00,   4.00000000e+00],\n",
        " |          [  6.33129261e+01,   5.83089133e-13,   4.00000000e+00],\n",
        " |          [  7.22778509e+01,   7.54951657e-15,   4.00000000e+00],\n",
        " |          [  2.32659201e+02,   0.00000000e+00,   4.00000000e+00]])\n",
        " |  \n",
        " |  \n",
        " |  References\n",
        " |  ----------\n",
        " |  \n",
        " |  .. [1] Rey, S.J. 2001. \"Spatial empirics for economic growth\n",
        " |     and convergence\", 34 Geographical Analysis, 33, 195-214.\n",
        " |  \n",
        " |  Methods defined here:\n",
        " |  \n",
        " |  __init__(self, y, w, k=4, permutations=0, fixed=False)\n",
        "\n"
       ]
      }
     ],
     "prompt_number": 52
    },
    {
     "cell_type": "code",
     "collapsed": false,
     "input": [
      "p = sm.S.tofile('sss.tex', sep=\"&\", format=\"%.3f\")"
     ],
     "language": "python",
     "metadata": {},
     "outputs": [],
     "prompt_number": 48
    },
    {
     "cell_type": "code",
     "collapsed": false,
     "input": [
      "sm.s"
     ],
     "language": "python",
     "metadata": {},
     "outputs": [
      {
       "metadata": {},
       "output_type": "pyout",
       "prompt_number": 40,
       "text": [
        "matrix([[ 0.2],\n",
        "        [ 0.2],\n",
        "        [ 0.2],\n",
        "        [ 0.2],\n",
        "        [ 0.2]])"
       ]
      }
     ],
     "prompt_number": 40
    },
    {
     "cell_type": "code",
     "collapsed": false,
     "input": [
      "sm.s"
     ],
     "language": "python",
     "metadata": {},
     "outputs": [
      {
       "metadata": {},
       "output_type": "pyout",
       "prompt_number": 56,
       "text": [
        "matrix([[ 0.2],\n",
        "        [ 0.2],\n",
        "        [ 0.2],\n",
        "        [ 0.2],\n",
        "        [ 0.2]])"
       ]
      }
     ],
     "prompt_number": 56
    },
    {
     "cell_type": "code",
     "collapsed": false,
     "input": [
      "sm.S"
     ],
     "language": "python",
     "metadata": {},
     "outputs": [
      {
       "metadata": {},
       "output_type": "pyout",
       "prompt_number": 57,
       "text": [
        "array([[ 0.408,  0.217,  0.176,  0.122,  0.076],\n",
        "       [ 0.281,  0.256,  0.203,  0.159,  0.101],\n",
        "       [ 0.142,  0.25 ,  0.222,  0.215,  0.17 ],\n",
        "       [ 0.094,  0.173,  0.237,  0.23 ,  0.265],\n",
        "       [ 0.078,  0.108,  0.165,  0.265,  0.383]])"
       ]
      }
     ],
     "prompt_number": 57
    },
    {
     "cell_type": "code",
     "collapsed": false,
     "input": [
      "sm.S *.20"
     ],
     "language": "python",
     "metadata": {},
     "outputs": [
      {
       "metadata": {},
       "output_type": "pyout",
       "prompt_number": 58,
       "text": [
        "array([[ 0.082,  0.043,  0.035,  0.024,  0.015],\n",
        "       [ 0.056,  0.051,  0.041,  0.032,  0.02 ],\n",
        "       [ 0.028,  0.05 ,  0.044,  0.043,  0.034],\n",
        "       [ 0.019,  0.035,  0.047,  0.046,  0.053],\n",
        "       [ 0.016,  0.022,  0.033,  0.053,  0.077]])"
       ]
      }
     ],
     "prompt_number": 58
    },
    {
     "cell_type": "code",
     "collapsed": false,
     "input": [
      "(sm.S * .20).sum(axis=0)"
     ],
     "language": "python",
     "metadata": {},
     "outputs": [
      {
       "metadata": {},
       "output_type": "pyout",
       "prompt_number": 60,
       "text": [
        "array([ 0.201,  0.201,  0.201,  0.198,  0.199])"
       ]
      }
     ],
     "prompt_number": 60
    },
    {
     "cell_type": "code",
     "collapsed": false,
     "input": [
      "sm.P"
     ],
     "language": "python",
     "metadata": {},
     "outputs": [
      {
       "metadata": {},
       "output_type": "pyout",
       "prompt_number": 61,
       "text": [
        "array([[[ 0.528,  0.218,  0.106,  0.095,  0.053],\n",
        "        [ 0.382,  0.259,  0.195,  0.109,  0.055],\n",
        "        [ 0.271,  0.243,  0.25 ,  0.194,  0.042],\n",
        "        [ 0.288,  0.192,  0.219,  0.137,  0.164],\n",
        "        [ 0.352,  0.074,  0.259,  0.111,  0.204]],\n",
        "\n",
        "       [[ 0.473,  0.268,  0.123,  0.077,  0.059],\n",
        "        [ 0.219,  0.321,  0.232,  0.161,  0.067],\n",
        "        [ 0.235,  0.246,  0.278,  0.182,  0.059],\n",
        "        [ 0.218,  0.155,  0.211,  0.261,  0.155],\n",
        "        [ 0.096,  0.233,  0.192,  0.178,  0.301]],\n",
        "\n",
        "       [[ 0.299,  0.328,  0.164,  0.104,  0.104],\n",
        "        [ 0.218,  0.326,  0.249,  0.13 ,  0.078],\n",
        "        [ 0.076,  0.24 ,  0.292,  0.263,  0.129],\n",
        "        [ 0.091,  0.217,  0.202,  0.293,  0.197],\n",
        "        [ 0.053,  0.127,  0.167,  0.273,  0.38 ]],\n",
        "\n",
        "       [[ 0.21 ,  0.309,  0.173,  0.123,  0.185],\n",
        "        [ 0.143,  0.286,  0.316,  0.15 ,  0.105],\n",
        "        [ 0.119,  0.206,  0.299,  0.216,  0.16 ],\n",
        "        [ 0.045,  0.104,  0.27 ,  0.284,  0.297],\n",
        "        [ 0.042,  0.083,  0.125,  0.287,  0.463]],\n",
        "\n",
        "       [[ 0.286,  0.161,  0.143,  0.161,  0.25 ],\n",
        "        [ 0.118,  0.211,  0.25 ,  0.237,  0.184],\n",
        "        [ 0.073,  0.127,  0.253,  0.253,  0.293],\n",
        "        [ 0.047,  0.118,  0.171,  0.289,  0.374],\n",
        "        [ 0.048,  0.053,  0.104,  0.284,  0.511]]])"
       ]
      }
     ],
     "prompt_number": 61
    },
    {
     "cell_type": "code",
     "collapsed": false,
     "input": [
      "P2 = np.dot(sm.P, sm.P)"
     ],
     "language": "python",
     "metadata": {},
     "outputs": [],
     "prompt_number": 65
    },
    {
     "cell_type": "code",
     "collapsed": false,
     "input": [
      "P2.shape"
     ],
     "language": "python",
     "metadata": {},
     "outputs": [
      {
       "metadata": {},
       "output_type": "pyout",
       "prompt_number": 72,
       "text": [
        "(5, 5, 5, 5)"
       ]
      }
     ],
     "prompt_number": 72
    },
    {
     "cell_type": "code",
     "collapsed": false,
     "input": [
      "sm.P.shape"
     ],
     "language": "python",
     "metadata": {},
     "outputs": [
      {
       "metadata": {},
       "output_type": "pyout",
       "prompt_number": 73,
       "text": [
        "(5, 5, 5)"
       ]
      }
     ],
     "prompt_number": 73
    },
    {
     "cell_type": "code",
     "collapsed": false,
     "input": [
      "p0 = sm.P.sum(axis=0)"
     ],
     "language": "python",
     "metadata": {},
     "outputs": [],
     "prompt_number": 74
    },
    {
     "cell_type": "code",
     "collapsed": false,
     "input": [
      "p0.shape"
     ],
     "language": "python",
     "metadata": {},
     "outputs": [
      {
       "metadata": {},
       "output_type": "pyout",
       "prompt_number": 75,
       "text": [
        "(5, 5)"
       ]
      }
     ],
     "prompt_number": 75
    },
    {
     "cell_type": "code",
     "collapsed": false,
     "input": [
      "p0/5."
     ],
     "language": "python",
     "metadata": {},
     "outputs": [
      {
       "metadata": {},
       "output_type": "pyout",
       "prompt_number": 77,
       "text": [
        "array([[ 0.359,  0.257,  0.142,  0.112,  0.13 ],\n",
        "       [ 0.216,  0.281,  0.248,  0.157,  0.098],\n",
        "       [ 0.155,  0.212,  0.275,  0.222,  0.136],\n",
        "       [ 0.138,  0.157,  0.215,  0.253,  0.238],\n",
        "       [ 0.118,  0.114,  0.169,  0.227,  0.372]])"
       ]
      }
     ],
     "prompt_number": 77
    },
    {
     "cell_type": "code",
     "collapsed": false,
     "input": [
      "p2 = [ np.dot(p,p) for p in sm.P]"
     ],
     "language": "python",
     "metadata": {},
     "outputs": [],
     "prompt_number": 79
    },
    {
     "cell_type": "code",
     "collapsed": false,
     "input": [
      "p2a = np.array(p2)"
     ],
     "language": "python",
     "metadata": {},
     "outputs": [],
     "prompt_number": 86
    },
    {
     "cell_type": "code",
     "collapsed": false,
     "input": [
      "p2a = p2a.sum(axis=0)/5."
     ],
     "language": "python",
     "metadata": {},
     "outputs": [],
     "prompt_number": 90
    },
    {
     "cell_type": "code",
     "collapsed": false,
     "input": [
      "p2a.sum(axis=1)"
     ],
     "language": "python",
     "metadata": {},
     "outputs": [
      {
       "metadata": {},
       "output_type": "pyout",
       "prompt_number": 91,
       "text": [
        "array([ 1.,  1.,  1.,  1.,  1.])"
       ]
      }
     ],
     "prompt_number": 91
    },
    {
     "cell_type": "code",
     "collapsed": false,
     "input": [
      "p2a"
     ],
     "language": "python",
     "metadata": {},
     "outputs": [
      {
       "metadata": {},
       "output_type": "pyout",
       "prompt_number": 92,
       "text": [
        "array([[ 0.242,  0.223,  0.194,  0.172,  0.169],\n",
        "       [ 0.212,  0.221,  0.215,  0.187,  0.165],\n",
        "       [ 0.193,  0.206,  0.214,  0.201,  0.185],\n",
        "       [ 0.184,  0.188,  0.205,  0.21 ,  0.213],\n",
        "       [ 0.166,  0.174,  0.194,  0.218,  0.247]])"
       ]
      }
     ],
     "prompt_number": 92
    },
    {
     "cell_type": "code",
     "collapsed": false,
     "input": [
      "sm.p"
     ],
     "language": "python",
     "metadata": {},
     "outputs": [
      {
       "metadata": {},
       "output_type": "pyout",
       "prompt_number": 93,
       "text": [
        "matrix([[ 0.431,  0.253,  0.128,  0.099,  0.088],\n",
        "        [ 0.24 ,  0.291,  0.241,  0.145,  0.083],\n",
        "        [ 0.154,  0.214,  0.277,  0.221,  0.135],\n",
        "        [ 0.106,  0.15 ,  0.215,  0.271,  0.258],\n",
        "        [ 0.071,  0.091,  0.138,  0.263,  0.438]])"
       ]
      }
     ],
     "prompt_number": 93
    },
    {
     "cell_type": "code",
     "collapsed": false,
     "input": [
      "np.dot(sm.p,sm.p)"
     ],
     "language": "python",
     "metadata": {},
     "outputs": [
      {
       "metadata": {},
       "output_type": "pyout",
       "prompt_number": 94,
       "text": [
        "matrix([[ 0.283,  0.233,  0.185,  0.158,  0.141],\n",
        "        [ 0.232,  0.226,  0.21 ,  0.18 ,  0.151],\n",
        "        [ 0.193,  0.206,  0.214,  0.203,  0.185],\n",
        "        [ 0.162,  0.181,  0.203,  0.221,  0.233],\n",
        "        [ 0.132,  0.153,  0.186,  0.237,  0.292]])"
       ]
      }
     ],
     "prompt_number": 94
    },
    {
     "cell_type": "code",
     "collapsed": false,
     "input": [
      "p2a.shape"
     ],
     "language": "python",
     "metadata": {},
     "outputs": [
      {
       "metadata": {},
       "output_type": "pyout",
       "prompt_number": 87,
       "text": [
        "(5, 5, 5)"
       ]
      }
     ],
     "prompt_number": 87
    },
    {
     "cell_type": "code",
     "collapsed": false,
     "input": [
      "p2[0][0,:].sum()"
     ],
     "language": "python",
     "metadata": {},
     "outputs": [
      {
       "metadata": {},
       "output_type": "pyout",
       "prompt_number": 85,
       "text": [
        "1.0"
       ]
      }
     ],
     "prompt_number": 85
    },
    {
     "cell_type": "code",
     "collapsed": false,
     "input": [
      "sm.p"
     ],
     "language": "python",
     "metadata": {},
     "outputs": [
      {
       "metadata": {},
       "output_type": "pyout",
       "prompt_number": 78,
       "text": [
        "matrix([[ 0.431,  0.253,  0.128,  0.099,  0.088],\n",
        "        [ 0.24 ,  0.291,  0.241,  0.145,  0.083],\n",
        "        [ 0.154,  0.214,  0.277,  0.221,  0.135],\n",
        "        [ 0.106,  0.15 ,  0.215,  0.271,  0.258],\n",
        "        [ 0.071,  0.091,  0.138,  0.263,  0.438]])"
       ]
      }
     ],
     "prompt_number": 78
    },
    {
     "cell_type": "code",
     "collapsed": false,
     "input": [
      "sm.T.sum(axis=2)"
     ],
     "language": "python",
     "metadata": {},
     "outputs": [
      {
       "metadata": {},
       "output_type": "pyout",
       "prompt_number": 46,
       "text": [
        "array([[ 358.,  220.,  144.,   73.,   54.],\n",
        "       [ 220.,  224.,  187.,  142.,   73.],\n",
        "       [ 134.,  193.,  171.,  198.,  150.],\n",
        "       [  81.,  133.,  194.,  222.,  216.],\n",
        "       [  56.,   76.,  150.,  211.,  356.]])"
       ]
      }
     ],
     "prompt_number": 46
    },
    {
     "cell_type": "code",
     "collapsed": false,
     "input": [
      "sm.T[0].sum(axis=1)"
     ],
     "language": "python",
     "metadata": {},
     "outputs": [
      {
       "metadata": {},
       "output_type": "pyout",
       "prompt_number": 48,
       "text": [
        "array([ 358.,  220.,  144.,   73.,   54.])"
       ]
      }
     ],
     "prompt_number": 48
    },
    {
     "cell_type": "code",
     "collapsed": false,
     "input": [
      "sm.T[-1].sum(axis=1)"
     ],
     "language": "python",
     "metadata": {},
     "outputs": [
      {
       "metadata": {},
       "output_type": "pyout",
       "prompt_number": 49,
       "text": [
        "array([  56.,   76.,  150.,  211.,  356.])"
       ]
      }
     ],
     "prompt_number": 49
    },
    {
     "cell_type": "code",
     "collapsed": false,
     "input": [
      "sm.chi2"
     ],
     "language": "python",
     "metadata": {},
     "outputs": [
      {
       "metadata": {},
       "output_type": "pyout",
       "prompt_number": 50,
       "text": [
        "[(173.52628657517519, 0.0, 16),\n",
        " (71.159507718251092, 6.2462540695307212e-09, 16),\n",
        " (35.40080907194907, 0.0035014972608470307, 16),\n",
        " (52.040505996419945, 1.0790250587255912e-05, 16),\n",
        " (122.14223778342712, 0.0, 16)]"
       ]
      }
     ],
     "prompt_number": 50
    },
    {
     "cell_type": "code",
     "collapsed": false,
     "input": [
      "sm.P"
     ],
     "language": "python",
     "metadata": {},
     "outputs": [
      {
       "metadata": {},
       "output_type": "pyout",
       "prompt_number": 51,
       "text": [
        "array([[[ 0.528,  0.218,  0.106,  0.095,  0.053],\n",
        "        [ 0.382,  0.259,  0.195,  0.109,  0.055],\n",
        "        [ 0.271,  0.243,  0.25 ,  0.194,  0.042],\n",
        "        [ 0.288,  0.192,  0.219,  0.137,  0.164],\n",
        "        [ 0.352,  0.074,  0.259,  0.111,  0.204]],\n",
        "\n",
        "       [[ 0.473,  0.268,  0.123,  0.077,  0.059],\n",
        "        [ 0.219,  0.321,  0.232,  0.161,  0.067],\n",
        "        [ 0.235,  0.246,  0.278,  0.182,  0.059],\n",
        "        [ 0.218,  0.155,  0.211,  0.261,  0.155],\n",
        "        [ 0.096,  0.233,  0.192,  0.178,  0.301]],\n",
        "\n",
        "       [[ 0.299,  0.328,  0.164,  0.104,  0.104],\n",
        "        [ 0.218,  0.326,  0.249,  0.13 ,  0.078],\n",
        "        [ 0.076,  0.24 ,  0.292,  0.263,  0.129],\n",
        "        [ 0.091,  0.217,  0.202,  0.293,  0.197],\n",
        "        [ 0.053,  0.127,  0.167,  0.273,  0.38 ]],\n",
        "\n",
        "       [[ 0.21 ,  0.309,  0.173,  0.123,  0.185],\n",
        "        [ 0.143,  0.286,  0.316,  0.15 ,  0.105],\n",
        "        [ 0.119,  0.206,  0.299,  0.216,  0.16 ],\n",
        "        [ 0.045,  0.104,  0.27 ,  0.284,  0.297],\n",
        "        [ 0.042,  0.083,  0.125,  0.287,  0.463]],\n",
        "\n",
        "       [[ 0.286,  0.161,  0.143,  0.161,  0.25 ],\n",
        "        [ 0.118,  0.211,  0.25 ,  0.237,  0.184],\n",
        "        [ 0.073,  0.127,  0.253,  0.253,  0.293],\n",
        "        [ 0.047,  0.118,  0.171,  0.289,  0.374],\n",
        "        [ 0.048,  0.053,  0.104,  0.284,  0.511]]])"
       ]
      }
     ],
     "prompt_number": 51
    },
    {
     "cell_type": "code",
     "collapsed": false,
     "input": [
      "for p in sm.P:\n",
      "    m = ps.spatial_dynamics.markov.shorrock(p)\n",
      "    print m"
     ],
     "language": "python",
     "metadata": {},
     "outputs": [
      {
       "output_type": "stream",
       "stream": "stdout",
       "text": [
        "0.905571531235\n",
        "0.84145901156\n",
        "0.852435178275\n",
        "0.864673338041\n",
        "0.86252264601\n"
       ]
      }
     ],
     "prompt_number": 87
    },
    {
     "cell_type": "code",
     "collapsed": false,
     "input": [
      "for p in sm.P:\n",
      "    m = ps.spatial_dynamics.markov.prais(np.matrix(p))\n",
      "    print m"
     ],
     "language": "python",
     "metadata": {},
     "outputs": [
      {
       "output_type": "stream",
       "stream": "stdout",
       "text": [
        "[[ 0.472  0.741  0.75   0.863  0.796]]\n",
        "[[ 0.527  0.679  0.722  0.739  0.699]]\n",
        "[[ 0.701  0.674  0.708  0.707  0.62 ]]\n",
        "[[ 0.79   0.714  0.701  0.716  0.537]]\n",
        "[[ 0.714  0.789  0.747  0.711  0.489]]\n"
       ]
      }
     ],
     "prompt_number": 94
    },
    {
     "cell_type": "code",
     "collapsed": false,
     "input": [
      "ps.spatial_dynamics.markov.prais(sm.p)"
     ],
     "language": "python",
     "metadata": {},
     "outputs": [
      {
       "metadata": {},
       "output_type": "pyout",
       "prompt_number": 96,
       "text": [
        "matrix([[ 0.569,  0.709,  0.723,  0.729,  0.562]])"
       ]
      }
     ],
     "prompt_number": 96
    },
    {
     "cell_type": "markdown",
     "metadata": {},
     "source": [
      "### LISA Markov"
     ]
    },
    {
     "cell_type": "code",
     "collapsed": false,
     "input": [
      "lm = ps.LISA_Markov(hr_mat, wq, permutations=99)"
     ],
     "language": "python",
     "metadata": {},
     "outputs": [],
     "prompt_number": 52
    },
    {
     "cell_type": "code",
     "collapsed": false,
     "input": [
      "lm.chi_2"
     ],
     "language": "python",
     "metadata": {},
     "outputs": [
      {
       "metadata": {},
       "output_type": "pyout",
       "prompt_number": 53,
       "text": [
        "(2619.023846591449, 0.0, 9)"
       ]
      }
     ],
     "prompt_number": 53
    },
    {
     "cell_type": "code",
     "collapsed": false,
     "input": [
      "lm.p"
     ],
     "language": "python",
     "metadata": {},
     "outputs": [
      {
       "metadata": {},
       "output_type": "pyout",
       "prompt_number": 54,
       "text": [
        "matrix([[ 0.615,  0.21 ,  0.083,  0.093],\n",
        "        [ 0.327,  0.336,  0.246,  0.091],\n",
        "        [ 0.063,  0.107,  0.675,  0.156],\n",
        "        [ 0.19 ,  0.124,  0.411,  0.275]])"
       ]
      }
     ],
     "prompt_number": 54
    },
    {
     "cell_type": "code",
     "collapsed": false,
     "input": [
      "lm.classes"
     ],
     "language": "python",
     "metadata": {},
     "outputs": [
      {
       "metadata": {},
       "output_type": "pyout",
       "prompt_number": 55,
       "text": [
        "array([1, 2, 3, 4])"
       ]
      }
     ],
     "prompt_number": 55
    },
    {
     "cell_type": "code",
     "collapsed": false,
     "input": [
      "lm.transitions"
     ],
     "language": "python",
     "metadata": {},
     "outputs": [
      {
       "metadata": {},
       "output_type": "pyout",
       "prompt_number": 56,
       "text": [
        "array([[  756.,   258.,   102.,   114.],\n",
        "       [  244.,   251.,   184.,    68.],\n",
        "       [  103.,   175.,  1105.,   255.],\n",
        "       [  118.,    77.,   255.,   171.]])"
       ]
      }
     ],
     "prompt_number": 56
    },
    {
     "cell_type": "code",
     "collapsed": false,
     "input": [
      "lm.significant_moves"
     ],
     "language": "python",
     "metadata": {},
     "outputs": [
      {
       "metadata": {},
       "output_type": "pyout",
       "prompt_number": 57,
       "text": [
        "array([[59, 59, 59],\n",
        "       [59, 59, 59],\n",
        "       [11, 59, 59],\n",
        "       ..., \n",
        "       [55, 59, 59],\n",
        "       [55, 59, 58],\n",
        "       [51, 59, 59]])"
       ]
      }
     ],
     "prompt_number": 57
    },
    {
     "cell_type": "code",
     "collapsed": false,
     "input": [
      "lm.expected_t"
     ],
     "language": "python",
     "metadata": {},
     "outputs": [
      {
       "metadata": {},
       "output_type": "pyout",
       "prompt_number": 58,
       "text": [
        "array([[ 338.13 ,  310.493,  278.303,  303.074],\n",
        "       [ 172.683,  221.237,  198.3  ,  154.78 ],\n",
        "       [ 356.679,  456.969,  462.981,  361.372],\n",
        "       [ 160.807,  147.664,  149.607,  162.923]])"
       ]
      }
     ],
     "prompt_number": 58
    },
    {
     "cell_type": "code",
     "collapsed": false,
     "input": [
      "lm.transitions"
     ],
     "language": "python",
     "metadata": {},
     "outputs": [
      {
       "metadata": {},
       "output_type": "pyout",
       "prompt_number": 61,
       "text": [
        "array([[  756.,   258.,   102.,   114.],\n",
        "       [  244.,   251.,   184.,    68.],\n",
        "       [  103.,   175.,  1105.,   255.],\n",
        "       [  118.,    77.,   255.,   171.]])"
       ]
      }
     ],
     "prompt_number": 61
    },
    {
     "cell_type": "code",
     "collapsed": false,
     "input": [
      "lm.p_values"
     ],
     "language": "python",
     "metadata": {},
     "outputs": [
      {
       "metadata": {},
       "output_type": "pyout",
       "prompt_number": 63,
       "text": [
        "array([[ 0.194,  0.059,  0.091,  0.001],\n",
        "       [ 0.179,  0.077,  0.126,  0.002],\n",
        "       [ 0.05 ,  0.117,  0.182,  0.021],\n",
        "       ..., \n",
        "       [ 0.464,  0.343,  0.168,  0.086],\n",
        "       [ 0.438,  0.377,  0.368,  0.371],\n",
        "       [ 0.408,  0.126,  0.078,  0.042]])"
       ]
      }
     ],
     "prompt_number": 63
    },
    {
     "cell_type": "code",
     "collapsed": false,
     "input": [
      "sum(lm.significant_moves<49)"
     ],
     "language": "python",
     "metadata": {},
     "outputs": [
      {
       "metadata": {},
       "output_type": "pyout",
       "prompt_number": 64,
       "text": [
        "669"
       ]
      }
     ],
     "prompt_number": 64
    },
    {
     "cell_type": "code",
     "collapsed": false,
     "input": [
      "np.unique(lm.significant_moves)"
     ],
     "language": "python",
     "metadata": {},
     "outputs": [
      {
       "metadata": {},
       "output_type": "pyout",
       "prompt_number": 65,
       "text": [
        "array([ 1,  2,  3,  4,  5,  6,  7,  8,  9, 10, 11, 12, 13, 14, 15, 16, 49,\n",
        "       50, 51, 52, 53, 54, 55, 56, 57, 58, 59, 60, 61, 62, 63, 64])"
       ]
      }
     ],
     "prompt_number": 65
    },
    {
     "cell_type": "code",
     "collapsed": false,
     "input": [
      "u_moves = np.unique(lm.significant_moves)"
     ],
     "language": "python",
     "metadata": {},
     "outputs": [],
     "prompt_number": 66
    },
    {
     "cell_type": "code",
     "collapsed": false,
     "input": [
      "n_u = len(u_moves)\n",
      "u_counts = np.zeros((n_u,2))\n",
      "for i,u in enumerate(u_moves):\n",
      "    u_counts[i,0] = u\n",
      "    u_counts[i,1] = sum(lm.significant_moves==u)"
     ],
     "language": "python",
     "metadata": {},
     "outputs": [],
     "prompt_number": 69
    },
    {
     "cell_type": "code",
     "collapsed": false,
     "input": [
      "u_counts"
     ],
     "language": "python",
     "metadata": {},
     "outputs": [
      {
       "metadata": {},
       "output_type": "pyout",
       "prompt_number": 70,
       "text": [
        "array([[   1.,  228.],\n",
        "       [   2.,   49.],\n",
        "       [   3.,    8.],\n",
        "       [   4.,   16.],\n",
        "       [   5.,   25.],\n",
        "       [   6.,   13.],\n",
        "       [   7.,   14.],\n",
        "       [   8.,    2.],\n",
        "       [   9.,   10.],\n",
        "       [  10.,   18.],\n",
        "       [  11.,  220.],\n",
        "       [  12.,   29.],\n",
        "       [  13.,    2.],\n",
        "       [  14.,    6.],\n",
        "       [  15.,   14.],\n",
        "       [  16.,   15.],\n",
        "       [  49.,  528.],\n",
        "       [  50.,  209.],\n",
        "       [  51.,   94.],\n",
        "       [  52.,   98.],\n",
        "       [  53.,  219.],\n",
        "       [  54.,  238.],\n",
        "       [  55.,  170.],\n",
        "       [  56.,   66.],\n",
        "       [  57.,   93.],\n",
        "       [  58.,  157.],\n",
        "       [  59.,  885.],\n",
        "       [  60.,  226.],\n",
        "       [  61.,  116.],\n",
        "       [  62.,   71.],\n",
        "       [  63.,  241.],\n",
        "       [  64.,  156.]])"
       ]
      }
     ],
     "prompt_number": 70
    },
    {
     "cell_type": "code",
     "collapsed": false,
     "input": [
      "lm.spillover??"
     ],
     "language": "python",
     "metadata": {},
     "outputs": [],
     "prompt_number": 82
    },
    {
     "cell_type": "code",
     "collapsed": false,
     "input": [
      "r = lm.spillover(neighbors_on=True)"
     ],
     "language": "python",
     "metadata": {},
     "outputs": [],
     "prompt_number": 83
    },
    {
     "cell_type": "code",
     "collapsed": false,
     "input": [
      "r"
     ],
     "language": "python",
     "metadata": {},
     "outputs": [
      {
       "metadata": {},
       "output_type": "pyout",
       "prompt_number": 84,
       "text": [
        "{'components': array([[ 0.,  0.,  0.,  0.],\n",
        "       [ 0.,  0.,  0.,  0.],\n",
        "       [ 0.,  0.,  0.,  0.],\n",
        "       ..., \n",
        "       [ 0.,  0.,  0.,  0.],\n",
        "       [ 0.,  0.,  0.,  0.],\n",
        "       [ 0.,  0.,  0.,  0.]]),\n",
        " 'spill_over': array([[ 0.,  0.,  0.],\n",
        "       [ 0.,  0.,  0.],\n",
        "       [ 0.,  0.,  0.],\n",
        "       ..., \n",
        "       [ 0.,  0.,  0.],\n",
        "       [ 0.,  0.,  0.],\n",
        "       [ 0.,  0.,  0.]])}"
       ]
      }
     ],
     "prompt_number": 84
    },
    {
     "cell_type": "code",
     "collapsed": false,
     "input": [
      "np.unique(r['components'][:,1])"
     ],
     "language": "python",
     "metadata": {},
     "outputs": [
      {
       "metadata": {},
       "output_type": "pyout",
       "prompt_number": 85,
       "text": [
        "array([ 0.,  1.,  2.,  3.,  4.,  5.,  6.])"
       ]
      }
     ],
     "prompt_number": 85
    },
    {
     "cell_type": "code",
     "collapsed": false,
     "input": [],
     "language": "python",
     "metadata": {},
     "outputs": []
    },
    {
     "cell_type": "code",
     "collapsed": false,
     "input": [
      "np.unique(r['components'][:,-2])"
     ],
     "language": "python",
     "metadata": {},
     "outputs": [
      {
       "metadata": {},
       "output_type": "pyout",
       "prompt_number": 81,
       "text": [
        "array([  0.,   1.,   2.,   3.,   4.,   5.,   6.,   7.,   8.,   9.,  10.,\n",
        "        11.,  12.,  13.,  14.])"
       ]
      }
     ],
     "prompt_number": 81
    },
    {
     "cell_type": "markdown",
     "metadata": {},
     "source": [
      "### Spatial Tau"
     ]
    },
    {
     "cell_type": "code",
     "collapsed": false,
     "input": [
      "st = [ ps.SpatialTau(hr_mat[:,y], hr_mat[:,y+1], wq) for y in range(3) ]"
     ],
     "language": "python",
     "metadata": {},
     "outputs": [],
     "prompt_number": 38
    },
    {
     "cell_type": "code",
     "collapsed": false,
     "input": [
      "st"
     ],
     "language": "python",
     "metadata": {},
     "outputs": [
      {
       "metadata": {},
       "output_type": "pyout",
       "prompt_number": 39,
       "text": [
        "[<pysal.spatial_dynamics.rank.SpatialTau instance at 0x10b3a20e0>,\n",
        " <pysal.spatial_dynamics.rank.SpatialTau instance at 0x10b2bc290>,\n",
        " <pysal.spatial_dynamics.rank.SpatialTau instance at 0x10b211950>]"
       ]
      }
     ],
     "prompt_number": 39
    },
    {
     "cell_type": "code",
     "collapsed": false,
     "input": [
      "st0 = st[0]"
     ],
     "language": "python",
     "metadata": {},
     "outputs": [],
     "prompt_number": 40
    },
    {
     "cell_type": "code",
     "collapsed": false,
     "input": [
      "st0.concordant"
     ],
     "language": "python",
     "metadata": {},
     "outputs": [
      {
       "metadata": {},
       "output_type": "pyout",
       "prompt_number": 41,
       "text": [
        "643871.0"
       ]
      }
     ],
     "prompt_number": 41
    },
    {
     "cell_type": "code",
     "collapsed": false,
     "input": [
      "st0.tau_p"
     ],
     "language": "python",
     "metadata": {},
     "outputs": [
      {
       "metadata": {},
       "output_type": "pyout",
       "prompt_number": 42,
       "text": [
        "1.0144886556810692e-71"
       ]
      }
     ],
     "prompt_number": 42
    },
    {
     "cell_type": "code",
     "collapsed": false,
     "input": [
      "st0.concordant"
     ],
     "language": "python",
     "metadata": {},
     "outputs": [
      {
       "metadata": {},
       "output_type": "pyout",
       "prompt_number": 43,
       "text": [
        "643871.0"
       ]
      }
     ],
     "prompt_number": 43
    },
    {
     "cell_type": "code",
     "collapsed": false,
     "input": [
      "st0.discordant"
     ],
     "language": "python",
     "metadata": {},
     "outputs": [
      {
       "metadata": {},
       "output_type": "pyout",
       "prompt_number": 44,
       "text": [
        "330746.0"
       ]
      }
     ],
     "prompt_number": 44
    },
    {
     "cell_type": "code",
     "collapsed": false,
     "input": [
      "wq.n"
     ],
     "language": "python",
     "metadata": {},
     "outputs": [
      {
       "metadata": {},
       "output_type": "pyout",
       "prompt_number": 45,
       "text": [
        "1412"
       ]
      }
     ],
     "prompt_number": 45
    },
    {
     "cell_type": "code",
     "collapsed": false,
     "input": [
      "1412*1411/2."
     ],
     "language": "python",
     "metadata": {},
     "outputs": [
      {
       "metadata": {},
       "output_type": "pyout",
       "prompt_number": 46,
       "text": [
        "996166.0"
       ]
      }
     ],
     "prompt_number": 46
    },
    {
     "cell_type": "code",
     "collapsed": false,
     "input": [
      "st0.extraX"
     ],
     "language": "python",
     "metadata": {},
     "outputs": [
      {
       "metadata": {},
       "output_type": "pyout",
       "prompt_number": 47,
       "text": [
        "5610.0"
       ]
      }
     ],
     "prompt_number": 47
    },
    {
     "cell_type": "code",
     "collapsed": false,
     "input": [
      "st0.extraY"
     ],
     "language": "python",
     "metadata": {},
     "outputs": [
      {
       "metadata": {},
       "output_type": "pyout",
       "prompt_number": 48,
       "text": [
        "13794"
       ]
      }
     ],
     "prompt_number": 48
    },
    {
     "cell_type": "code",
     "collapsed": false,
     "input": [
      "st0.extraX + st0.extraY + st0.concordant + st0.discordant"
     ],
     "language": "python",
     "metadata": {},
     "outputs": [
      {
       "metadata": {},
       "output_type": "pyout",
       "prompt_number": 49,
       "text": [
        "994021.0"
       ]
      }
     ],
     "prompt_number": 49
    },
    {
     "cell_type": "code",
     "collapsed": false,
     "input": [
      "st0.concordant_spatial"
     ],
     "language": "python",
     "metadata": {},
     "outputs": [
      {
       "metadata": {},
       "output_type": "pyout",
       "prompt_number": 50,
       "text": [
        "2201"
       ]
      }
     ],
     "prompt_number": 50
    },
    {
     "cell_type": "code",
     "collapsed": false,
     "input": [
      "st0.discordant_spatial"
     ],
     "language": "python",
     "metadata": {},
     "outputs": [
      {
       "metadata": {},
       "output_type": "pyout",
       "prompt_number": 51,
       "text": [
        "1669"
       ]
      }
     ],
     "prompt_number": 51
    },
    {
     "cell_type": "code",
     "collapsed": false,
     "input": [
      "wq.s0"
     ],
     "language": "python",
     "metadata": {},
     "outputs": [
      {
       "metadata": {},
       "output_type": "pyout",
       "prompt_number": 52,
       "text": [
        "8096.0"
       ]
      }
     ],
     "prompt_number": 52
    },
    {
     "cell_type": "code",
     "collapsed": false,
     "input": [
      "wq.s0/2"
     ],
     "language": "python",
     "metadata": {},
     "outputs": [
      {
       "metadata": {},
       "output_type": "pyout",
       "prompt_number": 53,
       "text": [
        "4048.0"
       ]
      }
     ],
     "prompt_number": 53
    },
    {
     "cell_type": "markdown",
     "metadata": {},
     "source": [
      "### Maps with folium"
     ]
    },
    {
     "cell_type": "code",
     "collapsed": false,
     "input": [
      "import folium\n",
      "map_osm = folium.Map(location=[33.7550, -84.3900], zoom_start=5)\n",
      "map_osm.geo_json(geo_path = 'data/south.json')\n",
      "map_osm.create_map(path='south_base.html')"
     ],
     "language": "python",
     "metadata": {},
     "outputs": [],
     "prompt_number": 54
    },
    {
     "cell_type": "markdown",
     "metadata": {},
     "source": [
      "This creates the file on the hardrive which we can see in a browser: http://localhost:8015/south_base.html"
     ]
    },
    {
     "cell_type": "code",
     "collapsed": false,
     "input": [
      "import json\n",
      "f = open('south.json')"
     ],
     "language": "python",
     "metadata": {},
     "outputs": [],
     "prompt_number": 55
    },
    {
     "cell_type": "code",
     "collapsed": false,
     "input": [
      "q = json.load(f)\n",
      "f.close()"
     ],
     "language": "python",
     "metadata": {},
     "outputs": [],
     "prompt_number": 56
    },
    {
     "cell_type": "code",
     "collapsed": false,
     "input": [
      "q.keys()"
     ],
     "language": "python",
     "metadata": {},
     "outputs": [
      {
       "metadata": {},
       "output_type": "pyout",
       "prompt_number": 57,
       "text": [
        "[u'type', u'features']"
       ]
      }
     ],
     "prompt_number": 57
    },
    {
     "cell_type": "code",
     "collapsed": false,
     "input": [
      "import pandas as pd"
     ],
     "language": "python",
     "metadata": {},
     "outputs": [],
     "prompt_number": 58
    },
    {
     "cell_type": "code",
     "collapsed": false,
     "input": [
      "indices = []\n",
      "series_dict = {}\n",
      "features = q['features']\n",
      "for hr_var in hr_vars:\n",
      "    series_dict[hr_var] = []\n",
      "for feature in features:\n",
      "    indices.append(str(feature['properties']['FIPS']))\n",
      "    for hr_var in hr_vars:\n",
      "        series_dict[hr_var].append(feature['properties'][hr_var])\n",
      "       "
     ],
     "language": "python",
     "metadata": {},
     "outputs": [],
     "prompt_number": 59
    },
    {
     "cell_type": "code",
     "collapsed": false,
     "input": [
      "for key in series_dict:\n",
      "    series_dict[key] = pd.Series(series_dict[key])\n",
      "df = pd.DataFrame(series_dict)"
     ],
     "language": "python",
     "metadata": {},
     "outputs": [],
     "prompt_number": 76
    },
    {
     "cell_type": "code",
     "collapsed": false,
     "input": [
      "df"
     ],
     "language": "python",
     "metadata": {},
     "outputs": [
      {
       "html": [
        "<pre>\n",
        "&lt;class 'pandas.core.frame.DataFrame'&gt;\n",
        "Int64Index: 1412 entries, 0 to 1411\n",
        "Data columns (total 4 columns):\n",
        "HR60    1412  non-null values\n",
        "HR70    1412  non-null values\n",
        "HR80    1412  non-null values\n",
        "HR90    1412  non-null values\n",
        "dtypes: float64(4)\n",
        "</pre>"
       ],
       "metadata": {},
       "output_type": "pyout",
       "prompt_number": 77,
       "text": [
        "<class 'pandas.core.frame.DataFrame'>\n",
        "Int64Index: 1412 entries, 0 to 1411\n",
        "Data columns (total 4 columns):\n",
        "HR60    1412  non-null values\n",
        "HR70    1412  non-null values\n",
        "HR80    1412  non-null values\n",
        "HR90    1412  non-null values\n",
        "dtypes: float64(4)"
       ]
      }
     ],
     "prompt_number": 77
    },
    {
     "cell_type": "code",
     "collapsed": false,
     "input": [
      "df['FIPS'] = indices"
     ],
     "language": "python",
     "metadata": {},
     "outputs": [],
     "prompt_number": 78
    },
    {
     "cell_type": "code",
     "collapsed": false,
     "input": [
      "df"
     ],
     "language": "python",
     "metadata": {},
     "outputs": [
      {
       "html": [
        "<pre>\n",
        "&lt;class 'pandas.core.frame.DataFrame'&gt;\n",
        "Int64Index: 1412 entries, 0 to 1411\n",
        "Data columns (total 5 columns):\n",
        "HR60    1412  non-null values\n",
        "HR70    1412  non-null values\n",
        "HR80    1412  non-null values\n",
        "HR90    1412  non-null values\n",
        "FIPS    1412  non-null values\n",
        "dtypes: float64(4), object(1)\n",
        "</pre>"
       ],
       "metadata": {},
       "output_type": "pyout",
       "prompt_number": 79,
       "text": [
        "<class 'pandas.core.frame.DataFrame'>\n",
        "Int64Index: 1412 entries, 0 to 1411\n",
        "Data columns (total 5 columns):\n",
        "HR60    1412  non-null values\n",
        "HR70    1412  non-null values\n",
        "HR80    1412  non-null values\n",
        "HR90    1412  non-null values\n",
        "FIPS    1412  non-null values\n",
        "dtypes: float64(4), object(1)"
       ]
      }
     ],
     "prompt_number": 79
    },
    {
     "cell_type": "code",
     "collapsed": false,
     "input": [
      "df['FIPS']"
     ],
     "language": "python",
     "metadata": {},
     "outputs": [
      {
       "metadata": {},
       "output_type": "pyout",
       "prompt_number": 80,
       "text": [
        "0     54029\n",
        "1     54009\n",
        "2     54069\n",
        "3     54051\n",
        "4     10003\n",
        "5     24043\n",
        "6     24001\n",
        "7     24015\n",
        "8     24023\n",
        "9     24025\n",
        "10    54061\n",
        "11    54077\n",
        "12    24013\n",
        "13    24005\n",
        "14    54103\n",
        "...\n",
        "1397    12021\n",
        "1398    48061\n",
        "1399    12011\n",
        "1400    12025\n",
        "1401    12087\n",
        "1402    51019\n",
        "1403    51710\n",
        "1404    51081\n",
        "1405    51059\n",
        "1406    51175\n",
        "1407    51083\n",
        "1408    51163\n",
        "1409    51161\n",
        "1410    51199\n",
        "1411    51153\n",
        "Name: FIPS, Length: 1412, dtype: object"
       ]
      }
     ],
     "prompt_number": 80
    },
    {
     "cell_type": "code",
     "collapsed": false,
     "input": [
      "map_osm = folium.Map(location=[33.7550, -84.3900], zoom_start=5,)\n",
      "map_osm.geo_json(geo_path='south.json',\n",
      "                 key_on='feature.properties.FIPS',\n",
      "                 data_out='data.json', data=df,\n",
      "                 columns=['FIPS','HR80'],\n",
      "                 fill_color='YlGn', fill_opacity=0.7,\n",
      "                 line_opacity=0.2,\n",
      "                 legend_name='Homicide Rate HR80')\n",
      "map_osm.create_map('homicide_80.html')"
     ],
     "language": "python",
     "metadata": {},
     "outputs": [],
     "prompt_number": 81
    },
    {
     "cell_type": "markdown",
     "metadata": {},
     "source": [
      "http://localhost:8015/homicide_80.html"
     ]
    },
    {
     "cell_type": "markdown",
     "metadata": {},
     "source": [
      "### In the browser"
     ]
    },
    {
     "cell_type": "code",
     "collapsed": false,
     "input": [
      "#Function that shows the map - call this functionto redraw the map.\n",
      "from IPython.display import HTML\n",
      "def showmap(name):\n",
      "    sint = str(random.randint(0,10000))\n",
      "    out_file = name+\"_\"+sint+\".html\"\n",
      "    map_osm.create_map(path=out_file)\n",
      "    iframe = \"<iframe src=http://localhost:8015/%s width=1000 height=500></iframe>\"%out_file\n",
      "    print iframe\n",
      "    return HTML(iframe)\n",
      "\n",
      "def resetmap():\n",
      "    return folium.Map(location=[40, -99], zoom_start=4)\n",
      "\n",
      "map_osm = resetmap()\n",
      "showmap('map_0')"
     ],
     "language": "python",
     "metadata": {},
     "outputs": [
      {
       "output_type": "stream",
       "stream": "stdout",
       "text": [
        "<iframe src=http://localhost:8015/map_0_2854.html width=1000 height=500></iframe>\n"
       ]
      },
      {
       "html": [
        "<iframe src=http://localhost:8015/map_0_2854.html width=1000 height=500></iframe>"
       ],
       "metadata": {},
       "output_type": "pyout",
       "prompt_number": 83,
       "text": [
        "<IPython.core.display.HTML at 0x10b2e2fd0>"
       ]
      }
     ],
     "prompt_number": 83
    },
    {
     "cell_type": "code",
     "collapsed": true,
     "input": [
      "bins = ps.Quantiles(df['HR60'], 5).bins.tolist()\n",
      "map_osm = folium.Map(location=[33.7550, -84.3900], zoom_start=4,)\n",
      "map_osm.geo_json(geo_path='south.json',\n",
      "                 key_on='feature.properties.FIPS',\n",
      "                 data_out='data.json', data=df,\n",
      "                 columns=['FIPS','HR60'],\n",
      "                 fill_color='YlGn', fill_opacity=0.7,\n",
      "                 line_opacity=0.2,\n",
      "                 threshold_scale=bins[:-1],\n",
      "                 legend_name='Homicide Rate HR60 (Quintiles)')\n",
      "showmap('test')"
     ],
     "language": "python",
     "metadata": {},
     "outputs": [
      {
       "output_type": "stream",
       "stream": "stdout",
       "text": [
        "<iframe src=http://localhost:8015/test_2180.html width=1000 height=500></iframe>\n"
       ]
      },
      {
       "html": [
        "<iframe src=http://localhost:8015/test_2180.html width=1000 height=500></iframe>"
       ],
       "metadata": {},
       "output_type": "pyout",
       "prompt_number": 88,
       "text": [
        "<IPython.core.display.HTML at 0x10cd77150>"
       ]
      }
     ],
     "prompt_number": 88
    },
    {
     "cell_type": "code",
     "collapsed": false,
     "input": [
      "\n",
      "bins"
     ],
     "language": "python",
     "metadata": {},
     "outputs": [
      {
       "metadata": {},
       "output_type": "pyout",
       "prompt_number": 75,
       "text": [
        "array([  2.497,   5.104,   7.621,  10.981,  92.937])"
       ]
      }
     ],
     "prompt_number": 75
    },
    {
     "cell_type": "code",
     "collapsed": false,
     "input": [
      "df['HR60'].max()"
     ],
     "language": "python",
     "metadata": {},
     "outputs": [
      {
       "metadata": {},
       "output_type": "pyout",
       "prompt_number": 73,
       "text": [
        "92.936802974000003"
       ]
      }
     ],
     "prompt_number": 73
    },
    {
     "cell_type": "code",
     "collapsed": false,
     "input": [],
     "language": "python",
     "metadata": {},
     "outputs": []
    }
   ],
   "metadata": {}
  }
 ]
}