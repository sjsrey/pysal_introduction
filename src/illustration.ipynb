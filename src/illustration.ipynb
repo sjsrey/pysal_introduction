{
 "metadata": {
  "name": ""
 },
 "nbformat": 3,
 "nbformat_minor": 0,
 "worksheets": [
  {
   "cells": [
    {
     "cell_type": "code",
     "collapsed": false,
     "input": [
      "import pysal as ps\n",
      "import numpy as np\n",
      "import pandas as pd\n",
      "import folium"
     ],
     "language": "python",
     "metadata": {},
     "outputs": [],
     "prompt_number": 1
    },
    {
     "cell_type": "code",
     "collapsed": false,
     "input": [
      "dbf_path = ps.examples.get_path(\"south.dbf\")\n",
      "shp_path = \".\".join([dbf_path.split(\".\")[0],\"shp\"])"
     ],
     "language": "python",
     "metadata": {},
     "outputs": [],
     "prompt_number": 2
    },
    {
     "cell_type": "code",
     "collapsed": false,
     "input": [
      "dbf = ps.open(dbf_path)"
     ],
     "language": "python",
     "metadata": {},
     "outputs": [],
     "prompt_number": 3
    },
    {
     "cell_type": "code",
     "collapsed": false,
     "input": [
      "variable_names = dbf.header"
     ],
     "language": "python",
     "metadata": {},
     "outputs": [],
     "prompt_number": 4
    },
    {
     "cell_type": "code",
     "collapsed": true,
     "input": [
      "variable_names"
     ],
     "language": "python",
     "metadata": {},
     "outputs": [
      {
       "metadata": {},
       "output_type": "pyout",
       "prompt_number": 5,
       "text": [
        "['FIPSNO',\n",
        " 'NAME',\n",
        " 'STATE_NAME',\n",
        " 'STATE_FIPS',\n",
        " 'CNTY_FIPS',\n",
        " 'FIPS',\n",
        " 'STFIPS',\n",
        " 'COFIPS',\n",
        " 'SOUTH',\n",
        " 'HR60',\n",
        " 'HR70',\n",
        " 'HR80',\n",
        " 'HR90',\n",
        " 'HC60',\n",
        " 'HC70',\n",
        " 'HC80',\n",
        " 'HC90',\n",
        " 'PO60',\n",
        " 'PO70',\n",
        " 'PO80',\n",
        " 'PO90',\n",
        " 'RD60',\n",
        " 'RD70',\n",
        " 'RD80',\n",
        " 'RD90',\n",
        " 'PS60',\n",
        " 'PS70',\n",
        " 'PS80',\n",
        " 'PS90',\n",
        " 'UE60',\n",
        " 'UE70',\n",
        " 'UE80',\n",
        " 'UE90',\n",
        " 'DV60',\n",
        " 'DV70',\n",
        " 'DV80',\n",
        " 'DV90',\n",
        " 'MA60',\n",
        " 'MA70',\n",
        " 'MA80',\n",
        " 'MA90',\n",
        " 'POL60',\n",
        " 'POL70',\n",
        " 'POL80',\n",
        " 'POL90',\n",
        " 'DNL60',\n",
        " 'DNL70',\n",
        " 'DNL80',\n",
        " 'DNL90',\n",
        " 'MFIL59',\n",
        " 'MFIL69',\n",
        " 'MFIL79',\n",
        " 'MFIL89',\n",
        " 'FP59',\n",
        " 'FP69',\n",
        " 'FP79',\n",
        " 'FP89',\n",
        " 'BLK60',\n",
        " 'BLK70',\n",
        " 'BLK80',\n",
        " 'BLK90',\n",
        " 'GI59',\n",
        " 'GI69',\n",
        " 'GI79',\n",
        " 'GI89',\n",
        " 'FH60',\n",
        " 'FH70',\n",
        " 'FH80',\n",
        " 'FH90']"
       ]
      }
     ],
     "prompt_number": 5
    },
    {
     "cell_type": "code",
     "collapsed": false,
     "input": [
      "hr_vars = [ \"HR%2d\"%year for year in range(60,95,10) ] "
     ],
     "language": "python",
     "metadata": {},
     "outputs": [],
     "prompt_number": 6
    },
    {
     "cell_type": "code",
     "collapsed": false,
     "input": [
      "hr_vars"
     ],
     "language": "python",
     "metadata": {},
     "outputs": [
      {
       "metadata": {},
       "output_type": "pyout",
       "prompt_number": 7,
       "text": [
        "['HR60', 'HR70', 'HR80', 'HR90']"
       ]
      }
     ],
     "prompt_number": 7
    },
    {
     "cell_type": "code",
     "collapsed": false,
     "input": [
      "hr_mat = np.array([dbf.by_col(var) for var in hr_vars]).T"
     ],
     "language": "python",
     "metadata": {},
     "outputs": [],
     "prompt_number": 8
    },
    {
     "cell_type": "code",
     "collapsed": false,
     "input": [
      "hr_mat.shape"
     ],
     "language": "python",
     "metadata": {},
     "outputs": [
      {
       "metadata": {},
       "output_type": "pyout",
       "prompt_number": 9,
       "text": [
        "(1412, 4)"
       ]
      }
     ],
     "prompt_number": 9
    },
    {
     "cell_type": "markdown",
     "metadata": {},
     "source": [
      "## Descriptive Statistics"
     ]
    },
    {
     "cell_type": "code",
     "collapsed": false,
     "input": [
      "hr_means = hr_mat.mean(axis=0)\n",
      "hr_std = hr_mat.std(axis=0)\n",
      "hr_cv = hr_std / hr_means"
     ],
     "language": "python",
     "metadata": {},
     "outputs": [],
     "prompt_number": 10
    },
    {
     "cell_type": "code",
     "collapsed": false,
     "input": [
      "hr_means"
     ],
     "language": "python",
     "metadata": {},
     "outputs": [
      {
       "metadata": {},
       "output_type": "pyout",
       "prompt_number": 11,
       "text": [
        "array([  7.29214433,  10.39661412,  10.19447769,   9.54929316])"
       ]
      }
     ],
     "prompt_number": 11
    },
    {
     "cell_type": "code",
     "collapsed": false,
     "input": [
      "hr_std"
     ],
     "language": "python",
     "metadata": {},
     "outputs": [
      {
       "metadata": {},
       "output_type": "pyout",
       "prompt_number": 12,
       "text": [
        "array([ 6.41874356,  7.97446253,  6.51446926,  7.03635793])"
       ]
      }
     ],
     "prompt_number": 12
    },
    {
     "cell_type": "code",
     "collapsed": false,
     "input": [
      "hr_cv"
     ],
     "language": "python",
     "metadata": {},
     "outputs": [
      {
       "metadata": {},
       "output_type": "pyout",
       "prompt_number": 13,
       "text": [
        "array([ 0.88022717,  0.76702496,  0.63901942,  0.73684594])"
       ]
      }
     ],
     "prompt_number": 13
    },
    {
     "cell_type": "code",
     "collapsed": false,
     "input": [
      "boxplot(hr_mat)\n",
      "xticks(range(1,5), ['1960', '1970', '1980', '1990'])"
     ],
     "language": "python",
     "metadata": {},
     "outputs": [
      {
       "metadata": {},
       "output_type": "pyout",
       "prompt_number": 14,
       "text": [
        "([<matplotlib.axis.XTick at 0x10ade4090>,\n",
        "  <matplotlib.axis.XTick at 0x10ade4dd0>,\n",
        "  <matplotlib.axis.XTick at 0x10ade8ad0>,\n",
        "  <matplotlib.axis.XTick at 0x10b020610>],\n",
        " <a list of 4 Text xticklabel objects>)"
       ]
      },
      {
       "metadata": {},
       "output_type": "display_data",
       "png": "[encoded data removed]",
       "text": [
        "<matplotlib.figure.Figure at 0x10adda6d0>"
       ]
      }
     ],
     "prompt_number": 14
    },
    {
     "cell_type": "markdown",
     "metadata": {},
     "source": [
      "## Global Autocorrelation Analysis"
     ]
    },
    {
     "cell_type": "code",
     "collapsed": false,
     "input": [
      "wq = ps.queen_from_shapefile(shp_path)"
     ],
     "language": "python",
     "metadata": {},
     "outputs": [],
     "prompt_number": 15
    },
    {
     "cell_type": "code",
     "collapsed": false,
     "input": [
      "wq.n"
     ],
     "language": "python",
     "metadata": {},
     "outputs": [
      {
       "metadata": {},
       "output_type": "pyout",
       "prompt_number": 16,
       "text": [
        "1412"
       ]
      }
     ],
     "prompt_number": 16
    },
    {
     "cell_type": "code",
     "collapsed": false,
     "input": [
      "wq.transform = 'r'"
     ],
     "language": "python",
     "metadata": {},
     "outputs": [],
     "prompt_number": 17
    },
    {
     "cell_type": "code",
     "collapsed": false,
     "input": [
      "# set random number generator seed for replication purposes\n",
      "np.random.seed(12345)\n",
      "mi_res = [ps.Moran(v,wq) for v in hr_mat.T]"
     ],
     "language": "python",
     "metadata": {},
     "outputs": [],
     "prompt_number": 18
    },
    {
     "cell_type": "code",
     "collapsed": false,
     "input": [
      "len(mi_res)"
     ],
     "language": "python",
     "metadata": {},
     "outputs": [
      {
       "metadata": {},
       "output_type": "pyout",
       "prompt_number": 19,
       "text": [
        "4"
       ]
      }
     ],
     "prompt_number": 19
    },
    {
     "cell_type": "code",
     "collapsed": true,
     "input": [
      "for i,var in enumerate(hr_vars):\n",
      "    print var, mi_res[i].I, mi_res[i].p_sim"
     ],
     "language": "python",
     "metadata": {},
     "outputs": [
      {
       "output_type": "stream",
       "stream": "stdout",
       "text": [
        "HR60 0.215862353982 0.001\n",
        "HR70 0.262159156049 0.001\n",
        "HR80 0.252115265218 0.001\n",
        "HR90 0.256993382909 0.001\n"
       ]
      }
     ],
     "prompt_number": 20
    },
    {
     "cell_type": "markdown",
     "metadata": {},
     "source": [
      "## Spatial Dynamics"
     ]
    },
    {
     "cell_type": "markdown",
     "metadata": {},
     "source": [
      "### Classic Markov Chains"
     ]
    },
    {
     "cell_type": "code",
     "collapsed": false,
     "input": [
      "hr_q = [ ps.Quantiles(v,k=5) for v in hr_mat.T]"
     ],
     "language": "python",
     "metadata": {},
     "outputs": [],
     "prompt_number": 21
    },
    {
     "cell_type": "code",
     "collapsed": false,
     "input": [
      "for i in range(4):\n",
      "    print hr_q[i]"
     ],
     "language": "python",
     "metadata": {},
     "outputs": [
      {
       "output_type": "stream",
       "stream": "stdout",
       "text": [
        "                Quantiles                \n",
        " \n",
        "Lower            Upper              Count\n",
        "=========================================\n",
        "         x[i] <=  2.497               283\n",
        " 2.497 < x[i] <=  5.104               282\n",
        " 5.104 < x[i] <=  7.621               282\n",
        " 7.621 < x[i] <= 10.981               282\n",
        "10.981 < x[i] <= 92.937               283\n",
        "                Quantiles                \n",
        " \n",
        "Lower            Upper              Count\n",
        "=========================================\n",
        "         x[i] <=  4.136               283\n",
        " 4.136 < x[i] <=  7.479               282\n",
        " 7.479 < x[i] <= 10.926               282\n",
        "10.926 < x[i] <= 15.460               282\n",
        "15.460 < x[i] <= 71.839               283\n",
        "                Quantiles                \n",
        " \n",
        "Lower            Upper              Count\n",
        "=========================================\n",
        "         x[i] <=  4.795               283\n",
        " 4.795 < x[i] <=  7.850               282\n",
        " 7.850 < x[i] <= 10.917               282\n",
        "10.917 < x[i] <= 15.033               282\n",
        "15.033 < x[i] <= 42.343               283\n",
        "                Quantiles                \n",
        " \n",
        "Lower            Upper              Count\n",
        "=========================================\n",
        "         x[i] <=  4.180               283\n",
        " 4.180 < x[i] <=  6.904               282\n",
        " 6.904 < x[i] <=  9.783               282\n",
        " 9.783 < x[i] <= 14.278               282\n",
        "14.278 < x[i] <= 64.261               283\n"
       ]
      }
     ],
     "prompt_number": 22
    },
    {
     "cell_type": "code",
     "collapsed": false,
     "input": [
      "h0 = hr_q[0]"
     ],
     "language": "python",
     "metadata": {},
     "outputs": [],
     "prompt_number": 106
    },
    {
     "cell_type": "code",
     "collapsed": false,
     "input": [
      "qs = np.array([ h.bins for h in hr_q])"
     ],
     "language": "python",
     "metadata": {},
     "outputs": [],
     "prompt_number": 110
    },
    {
     "cell_type": "code",
     "collapsed": false,
     "input": [
      "for q in qs.T:\n",
      "    plot(q)"
     ],
     "language": "python",
     "metadata": {},
     "outputs": [
      {
       "metadata": {},
       "output_type": "display_data",
       "png": "[encoded data removed]",
       "text": [
        "<matplotlib.figure.Figure at 0x10b25ec10>"
       ]
      }
     ],
     "prompt_number": 111
    },
    {
     "cell_type": "code",
     "collapsed": false,
     "input": [],
     "language": "python",
     "metadata": {},
     "outputs": []
    },
    {
     "cell_type": "code",
     "collapsed": false,
     "input": [
      "hr_q_bin_ids = np.array([ y.yb for y in hr_q ]).T"
     ],
     "language": "python",
     "metadata": {},
     "outputs": [],
     "prompt_number": 23
    },
    {
     "cell_type": "code",
     "collapsed": false,
     "input": [
      "hr_q_bin_ids.shape"
     ],
     "language": "python",
     "metadata": {},
     "outputs": [
      {
       "metadata": {},
       "output_type": "pyout",
       "prompt_number": 24,
       "text": [
        "(1412, 4)"
       ]
      }
     ],
     "prompt_number": 24
    },
    {
     "cell_type": "code",
     "collapsed": false,
     "input": [
      "cm = ps.Markov(hr_q_bin_ids)"
     ],
     "language": "python",
     "metadata": {},
     "outputs": [],
     "prompt_number": 25
    },
    {
     "cell_type": "code",
     "collapsed": false,
     "input": [
      "np.set_printoptions(precision=3)"
     ],
     "language": "python",
     "metadata": {},
     "outputs": [],
     "prompt_number": 26
    },
    {
     "cell_type": "code",
     "collapsed": false,
     "input": [
      "cm.p"
     ],
     "language": "python",
     "metadata": {},
     "outputs": [
      {
       "metadata": {},
       "output_type": "pyout",
       "prompt_number": 97,
       "text": [
        "matrix([[ 0.431,  0.253,  0.128,  0.099,  0.088],\n",
        "        [ 0.24 ,  0.291,  0.241,  0.145,  0.083],\n",
        "        [ 0.154,  0.214,  0.277,  0.221,  0.135],\n",
        "        [ 0.106,  0.15 ,  0.215,  0.271,  0.258],\n",
        "        [ 0.071,  0.091,  0.138,  0.263,  0.438]])"
       ]
      }
     ],
     "prompt_number": 97
    },
    {
     "cell_type": "code",
     "collapsed": false,
     "input": [
      "ps.spatial_dynamics.shorrock(cm.p)"
     ],
     "language": "python",
     "metadata": {},
     "outputs": [
      {
       "metadata": {},
       "output_type": "pyout",
       "prompt_number": 99,
       "text": [
        "0.82317014593723115"
       ]
      }
     ],
     "prompt_number": 99
    },
    {
     "cell_type": "code",
     "collapsed": false,
     "input": [
      "ps.spatial_dynamics.prais(cm.p)"
     ],
     "language": "python",
     "metadata": {},
     "outputs": [
      {
       "metadata": {},
       "output_type": "pyout",
       "prompt_number": 100,
       "text": [
        "matrix([[ 0.569,  0.709,  0.723,  0.729,  0.562]])"
       ]
      }
     ],
     "prompt_number": 100
    },
    {
     "cell_type": "code",
     "collapsed": false,
     "input": [
      "cm.transitions"
     ],
     "language": "python",
     "metadata": {},
     "outputs": [
      {
       "metadata": {},
       "output_type": "pyout",
       "prompt_number": 102,
       "text": [
        "array([[ 366.,  215.,  109.,   84.,   75.],\n",
        "       [ 203.,  246.,  204.,  123.,   70.],\n",
        "       [ 130.,  181.,  234.,  187.,  114.],\n",
        "       [  90.,  127.,  182.,  229.,  218.],\n",
        "       [  60.,   77.,  117.,  223.,  372.]])"
       ]
      }
     ],
     "prompt_number": 102
    },
    {
     "cell_type": "code",
     "collapsed": false,
     "input": [
      "sm = ps.Spatial_Markov(hr_mat, wq, k=5)"
     ],
     "language": "python",
     "metadata": {},
     "outputs": [
      {
       "output_type": "stream",
       "stream": "stderr",
       "text": [
        "/Users/serge/Documents/p/pysal/src/pysal/pysal/spatial_dynamics/markov.py:468: ComplexWarning: Casting complex values to real discards the imaginary part\n",
        "  ss[i] = steady_state(p_i).transpose()\n",
        "/Users/serge/Documents/p/pysal/src/pysal/pysal/spatial_dynamics/ergodic.py:119: ComplexWarning: Casting complex values to real discards the imaginary part\n",
        "  A[:, i] = ss\n"
       ]
      }
     ],
     "prompt_number": 28
    },
    {
     "cell_type": "code",
     "collapsed": false,
     "input": [
      "sm.P"
     ],
     "language": "python",
     "metadata": {},
     "outputs": [
      {
       "metadata": {},
       "output_type": "pyout",
       "prompt_number": 37,
       "text": [
        "array([[[ 0.528,  0.218,  0.106,  0.095,  0.053],\n",
        "        [ 0.382,  0.259,  0.195,  0.109,  0.055],\n",
        "        [ 0.271,  0.243,  0.25 ,  0.194,  0.042],\n",
        "        [ 0.288,  0.192,  0.219,  0.137,  0.164],\n",
        "        [ 0.352,  0.074,  0.259,  0.111,  0.204]],\n",
        "\n",
        "       [[ 0.473,  0.268,  0.123,  0.077,  0.059],\n",
        "        [ 0.219,  0.321,  0.232,  0.161,  0.067],\n",
        "        [ 0.235,  0.246,  0.278,  0.182,  0.059],\n",
        "        [ 0.218,  0.155,  0.211,  0.261,  0.155],\n",
        "        [ 0.096,  0.233,  0.192,  0.178,  0.301]],\n",
        "\n",
        "       [[ 0.299,  0.328,  0.164,  0.104,  0.104],\n",
        "        [ 0.218,  0.326,  0.249,  0.13 ,  0.078],\n",
        "        [ 0.076,  0.24 ,  0.292,  0.263,  0.129],\n",
        "        [ 0.091,  0.217,  0.202,  0.293,  0.197],\n",
        "        [ 0.053,  0.127,  0.167,  0.273,  0.38 ]],\n",
        "\n",
        "       [[ 0.21 ,  0.309,  0.173,  0.123,  0.185],\n",
        "        [ 0.143,  0.286,  0.316,  0.15 ,  0.105],\n",
        "        [ 0.119,  0.206,  0.299,  0.216,  0.16 ],\n",
        "        [ 0.045,  0.104,  0.27 ,  0.284,  0.297],\n",
        "        [ 0.042,  0.083,  0.125,  0.287,  0.463]],\n",
        "\n",
        "       [[ 0.286,  0.161,  0.143,  0.161,  0.25 ],\n",
        "        [ 0.118,  0.211,  0.25 ,  0.237,  0.184],\n",
        "        [ 0.073,  0.127,  0.253,  0.253,  0.293],\n",
        "        [ 0.047,  0.118,  0.171,  0.289,  0.374],\n",
        "        [ 0.048,  0.053,  0.104,  0.284,  0.511]]])"
       ]
      }
     ],
     "prompt_number": 37
    },
    {
     "cell_type": "code",
     "collapsed": false,
     "input": [
      "sm.S"
     ],
     "language": "python",
     "metadata": {},
     "outputs": [
      {
       "metadata": {},
       "output_type": "pyout",
       "prompt_number": 39,
       "text": [
        "array([[ 0.408,  0.217,  0.176,  0.122,  0.076],\n",
        "       [ 0.281,  0.256,  0.203,  0.159,  0.101],\n",
        "       [ 0.142,  0.25 ,  0.222,  0.215,  0.17 ],\n",
        "       [ 0.094,  0.173,  0.237,  0.23 ,  0.265],\n",
        "       [ 0.078,  0.108,  0.165,  0.265,  0.383]])"
       ]
      }
     ],
     "prompt_number": 39
    },
    {
     "cell_type": "code",
     "collapsed": false,
     "input": [
      "sm.s"
     ],
     "language": "python",
     "metadata": {},
     "outputs": [
      {
       "metadata": {},
       "output_type": "pyout",
       "prompt_number": 40,
       "text": [
        "matrix([[ 0.2],\n",
        "        [ 0.2],\n",
        "        [ 0.2],\n",
        "        [ 0.2],\n",
        "        [ 0.2]])"
       ]
      }
     ],
     "prompt_number": 40
    },
    {
     "cell_type": "code",
     "collapsed": false,
     "input": [
      "sm.p"
     ],
     "language": "python",
     "metadata": {},
     "outputs": [
      {
       "metadata": {},
       "output_type": "pyout",
       "prompt_number": 41,
       "text": [
        "matrix([[ 0.431,  0.253,  0.128,  0.099,  0.088],\n",
        "        [ 0.24 ,  0.291,  0.241,  0.145,  0.083],\n",
        "        [ 0.154,  0.214,  0.277,  0.221,  0.135],\n",
        "        [ 0.106,  0.15 ,  0.215,  0.271,  0.258],\n",
        "        [ 0.071,  0.091,  0.138,  0.263,  0.438]])"
       ]
      }
     ],
     "prompt_number": 41
    },
    {
     "cell_type": "code",
     "collapsed": false,
     "input": [
      "sm.T"
     ],
     "language": "python",
     "metadata": {},
     "outputs": [
      {
       "metadata": {},
       "output_type": "pyout",
       "prompt_number": 43,
       "text": [
        "array([[[ 189.,   78.,   38.,   34.,   19.],\n",
        "        [  84.,   57.,   43.,   24.,   12.],\n",
        "        [  39.,   35.,   36.,   28.,    6.],\n",
        "        [  21.,   14.,   16.,   10.,   12.],\n",
        "        [  19.,    4.,   14.,    6.,   11.]],\n",
        "\n",
        "       [[ 104.,   59.,   27.,   17.,   13.],\n",
        "        [  49.,   72.,   52.,   36.,   15.],\n",
        "        [  44.,   46.,   52.,   34.,   11.],\n",
        "        [  31.,   22.,   30.,   37.,   22.],\n",
        "        [   7.,   17.,   14.,   13.,   22.]],\n",
        "\n",
        "       [[  40.,   44.,   22.,   14.,   14.],\n",
        "        [  42.,   63.,   48.,   25.,   15.],\n",
        "        [  13.,   41.,   50.,   45.,   22.],\n",
        "        [  18.,   43.,   40.,   58.,   39.],\n",
        "        [   8.,   19.,   25.,   41.,   57.]],\n",
        "\n",
        "       [[  17.,   25.,   14.,   10.,   15.],\n",
        "        [  19.,   38.,   42.,   20.,   14.],\n",
        "        [  23.,   40.,   58.,   42.,   31.],\n",
        "        [  10.,   23.,   60.,   63.,   66.],\n",
        "        [   9.,   18.,   27.,   62.,  100.]],\n",
        "\n",
        "       [[  16.,    9.,    8.,    9.,   14.],\n",
        "        [   9.,   16.,   19.,   18.,   14.],\n",
        "        [  11.,   19.,   38.,   38.,   44.],\n",
        "        [  10.,   25.,   36.,   61.,   79.],\n",
        "        [  17.,   19.,   37.,  101.,  182.]]])"
       ]
      }
     ],
     "prompt_number": 43
    },
    {
     "cell_type": "code",
     "collapsed": false,
     "input": [
      "sm.T.sum(axis=2)"
     ],
     "language": "python",
     "metadata": {},
     "outputs": [
      {
       "metadata": {},
       "output_type": "pyout",
       "prompt_number": 46,
       "text": [
        "array([[ 358.,  220.,  144.,   73.,   54.],\n",
        "       [ 220.,  224.,  187.,  142.,   73.],\n",
        "       [ 134.,  193.,  171.,  198.,  150.],\n",
        "       [  81.,  133.,  194.,  222.,  216.],\n",
        "       [  56.,   76.,  150.,  211.,  356.]])"
       ]
      }
     ],
     "prompt_number": 46
    },
    {
     "cell_type": "code",
     "collapsed": false,
     "input": [
      "sm.T[0].sum(axis=1)"
     ],
     "language": "python",
     "metadata": {},
     "outputs": [
      {
       "metadata": {},
       "output_type": "pyout",
       "prompt_number": 48,
       "text": [
        "array([ 358.,  220.,  144.,   73.,   54.])"
       ]
      }
     ],
     "prompt_number": 48
    },
    {
     "cell_type": "code",
     "collapsed": false,
     "input": [
      "sm.T[-1].sum(axis=1)"
     ],
     "language": "python",
     "metadata": {},
     "outputs": [
      {
       "metadata": {},
       "output_type": "pyout",
       "prompt_number": 49,
       "text": [
        "array([  56.,   76.,  150.,  211.,  356.])"
       ]
      }
     ],
     "prompt_number": 49
    },
    {
     "cell_type": "code",
     "collapsed": false,
     "input": [
      "sm.chi2"
     ],
     "language": "python",
     "metadata": {},
     "outputs": [
      {
       "metadata": {},
       "output_type": "pyout",
       "prompt_number": 50,
       "text": [
        "[(173.52628657517519, 0.0, 16),\n",
        " (71.159507718251092, 6.2462540695307212e-09, 16),\n",
        " (35.40080907194907, 0.0035014972608470307, 16),\n",
        " (52.040505996419945, 1.0790250587255912e-05, 16),\n",
        " (122.14223778342712, 0.0, 16)]"
       ]
      }
     ],
     "prompt_number": 50
    },
    {
     "cell_type": "code",
     "collapsed": false,
     "input": [
      "sm.P"
     ],
     "language": "python",
     "metadata": {},
     "outputs": [
      {
       "metadata": {},
       "output_type": "pyout",
       "prompt_number": 51,
       "text": [
        "array([[[ 0.528,  0.218,  0.106,  0.095,  0.053],\n",
        "        [ 0.382,  0.259,  0.195,  0.109,  0.055],\n",
        "        [ 0.271,  0.243,  0.25 ,  0.194,  0.042],\n",
        "        [ 0.288,  0.192,  0.219,  0.137,  0.164],\n",
        "        [ 0.352,  0.074,  0.259,  0.111,  0.204]],\n",
        "\n",
        "       [[ 0.473,  0.268,  0.123,  0.077,  0.059],\n",
        "        [ 0.219,  0.321,  0.232,  0.161,  0.067],\n",
        "        [ 0.235,  0.246,  0.278,  0.182,  0.059],\n",
        "        [ 0.218,  0.155,  0.211,  0.261,  0.155],\n",
        "        [ 0.096,  0.233,  0.192,  0.178,  0.301]],\n",
        "\n",
        "       [[ 0.299,  0.328,  0.164,  0.104,  0.104],\n",
        "        [ 0.218,  0.326,  0.249,  0.13 ,  0.078],\n",
        "        [ 0.076,  0.24 ,  0.292,  0.263,  0.129],\n",
        "        [ 0.091,  0.217,  0.202,  0.293,  0.197],\n",
        "        [ 0.053,  0.127,  0.167,  0.273,  0.38 ]],\n",
        "\n",
        "       [[ 0.21 ,  0.309,  0.173,  0.123,  0.185],\n",
        "        [ 0.143,  0.286,  0.316,  0.15 ,  0.105],\n",
        "        [ 0.119,  0.206,  0.299,  0.216,  0.16 ],\n",
        "        [ 0.045,  0.104,  0.27 ,  0.284,  0.297],\n",
        "        [ 0.042,  0.083,  0.125,  0.287,  0.463]],\n",
        "\n",
        "       [[ 0.286,  0.161,  0.143,  0.161,  0.25 ],\n",
        "        [ 0.118,  0.211,  0.25 ,  0.237,  0.184],\n",
        "        [ 0.073,  0.127,  0.253,  0.253,  0.293],\n",
        "        [ 0.047,  0.118,  0.171,  0.289,  0.374],\n",
        "        [ 0.048,  0.053,  0.104,  0.284,  0.511]]])"
       ]
      }
     ],
     "prompt_number": 51
    },
    {
     "cell_type": "code",
     "collapsed": false,
     "input": [
      "for p in sm.P:\n",
      "    m = ps.spatial_dynamics.markov.shorrock(p)\n",
      "    print m"
     ],
     "language": "python",
     "metadata": {},
     "outputs": [
      {
       "output_type": "stream",
       "stream": "stdout",
       "text": [
        "0.905571531235\n",
        "0.84145901156\n",
        "0.852435178275\n",
        "0.864673338041\n",
        "0.86252264601\n"
       ]
      }
     ],
     "prompt_number": 87
    },
    {
     "cell_type": "code",
     "collapsed": false,
     "input": [
      "for p in sm.P:\n",
      "    m = ps.spatial_dynamics.markov.prais(np.matrix(p))\n",
      "    print m"
     ],
     "language": "python",
     "metadata": {},
     "outputs": [
      {
       "output_type": "stream",
       "stream": "stdout",
       "text": [
        "[[ 0.472  0.741  0.75   0.863  0.796]]\n",
        "[[ 0.527  0.679  0.722  0.739  0.699]]\n",
        "[[ 0.701  0.674  0.708  0.707  0.62 ]]\n",
        "[[ 0.79   0.714  0.701  0.716  0.537]]\n",
        "[[ 0.714  0.789  0.747  0.711  0.489]]\n"
       ]
      }
     ],
     "prompt_number": 94
    },
    {
     "cell_type": "code",
     "collapsed": false,
     "input": [
      "ps.spatial_dynamics.markov.prais(sm.p)"
     ],
     "language": "python",
     "metadata": {},
     "outputs": [
      {
       "metadata": {},
       "output_type": "pyout",
       "prompt_number": 96,
       "text": [
        "matrix([[ 0.569,  0.709,  0.723,  0.729,  0.562]])"
       ]
      }
     ],
     "prompt_number": 96
    },
    {
     "cell_type": "markdown",
     "metadata": {},
     "source": [
      "### LISA Markov"
     ]
    },
    {
     "cell_type": "code",
     "collapsed": false,
     "input": [
      "lm = ps.LISA_Markov(hr_mat, wq, permutations=99)"
     ],
     "language": "python",
     "metadata": {},
     "outputs": [],
     "prompt_number": 52
    },
    {
     "cell_type": "code",
     "collapsed": false,
     "input": [
      "lm.chi_2"
     ],
     "language": "python",
     "metadata": {},
     "outputs": [
      {
       "metadata": {},
       "output_type": "pyout",
       "prompt_number": 53,
       "text": [
        "(2619.023846591449, 0.0, 9)"
       ]
      }
     ],
     "prompt_number": 53
    },
    {
     "cell_type": "code",
     "collapsed": false,
     "input": [
      "lm.p"
     ],
     "language": "python",
     "metadata": {},
     "outputs": [
      {
       "metadata": {},
       "output_type": "pyout",
       "prompt_number": 54,
       "text": [
        "matrix([[ 0.615,  0.21 ,  0.083,  0.093],\n",
        "        [ 0.327,  0.336,  0.246,  0.091],\n",
        "        [ 0.063,  0.107,  0.675,  0.156],\n",
        "        [ 0.19 ,  0.124,  0.411,  0.275]])"
       ]
      }
     ],
     "prompt_number": 54
    },
    {
     "cell_type": "code",
     "collapsed": false,
     "input": [
      "lm.classes"
     ],
     "language": "python",
     "metadata": {},
     "outputs": [
      {
       "metadata": {},
       "output_type": "pyout",
       "prompt_number": 55,
       "text": [
        "array([1, 2, 3, 4])"
       ]
      }
     ],
     "prompt_number": 55
    },
    {
     "cell_type": "code",
     "collapsed": false,
     "input": [
      "lm.transitions"
     ],
     "language": "python",
     "metadata": {},
     "outputs": [
      {
       "metadata": {},
       "output_type": "pyout",
       "prompt_number": 56,
       "text": [
        "array([[  756.,   258.,   102.,   114.],\n",
        "       [  244.,   251.,   184.,    68.],\n",
        "       [  103.,   175.,  1105.,   255.],\n",
        "       [  118.,    77.,   255.,   171.]])"
       ]
      }
     ],
     "prompt_number": 56
    },
    {
     "cell_type": "code",
     "collapsed": false,
     "input": [
      "lm.significant_moves"
     ],
     "language": "python",
     "metadata": {},
     "outputs": [
      {
       "metadata": {},
       "output_type": "pyout",
       "prompt_number": 57,
       "text": [
        "array([[59, 59, 59],\n",
        "       [59, 59, 59],\n",
        "       [11, 59, 59],\n",
        "       ..., \n",
        "       [55, 59, 59],\n",
        "       [55, 59, 58],\n",
        "       [51, 59, 59]])"
       ]
      }
     ],
     "prompt_number": 57
    },
    {
     "cell_type": "code",
     "collapsed": false,
     "input": [
      "lm.expected_t"
     ],
     "language": "python",
     "metadata": {},
     "outputs": [
      {
       "metadata": {},
       "output_type": "pyout",
       "prompt_number": 58,
       "text": [
        "array([[ 338.13 ,  310.493,  278.303,  303.074],\n",
        "       [ 172.683,  221.237,  198.3  ,  154.78 ],\n",
        "       [ 356.679,  456.969,  462.981,  361.372],\n",
        "       [ 160.807,  147.664,  149.607,  162.923]])"
       ]
      }
     ],
     "prompt_number": 58
    },
    {
     "cell_type": "code",
     "collapsed": false,
     "input": [
      "lm.transitions"
     ],
     "language": "python",
     "metadata": {},
     "outputs": [
      {
       "metadata": {},
       "output_type": "pyout",
       "prompt_number": 61,
       "text": [
        "array([[  756.,   258.,   102.,   114.],\n",
        "       [  244.,   251.,   184.,    68.],\n",
        "       [  103.,   175.,  1105.,   255.],\n",
        "       [  118.,    77.,   255.,   171.]])"
       ]
      }
     ],
     "prompt_number": 61
    },
    {
     "cell_type": "code",
     "collapsed": false,
     "input": [
      "lm.p_values"
     ],
     "language": "python",
     "metadata": {},
     "outputs": [
      {
       "metadata": {},
       "output_type": "pyout",
       "prompt_number": 63,
       "text": [
        "array([[ 0.194,  0.059,  0.091,  0.001],\n",
        "       [ 0.179,  0.077,  0.126,  0.002],\n",
        "       [ 0.05 ,  0.117,  0.182,  0.021],\n",
        "       ..., \n",
        "       [ 0.464,  0.343,  0.168,  0.086],\n",
        "       [ 0.438,  0.377,  0.368,  0.371],\n",
        "       [ 0.408,  0.126,  0.078,  0.042]])"
       ]
      }
     ],
     "prompt_number": 63
    },
    {
     "cell_type": "code",
     "collapsed": false,
     "input": [
      "sum(lm.significant_moves<49)"
     ],
     "language": "python",
     "metadata": {},
     "outputs": [
      {
       "metadata": {},
       "output_type": "pyout",
       "prompt_number": 64,
       "text": [
        "669"
       ]
      }
     ],
     "prompt_number": 64
    },
    {
     "cell_type": "code",
     "collapsed": false,
     "input": [
      "np.unique(lm.significant_moves)"
     ],
     "language": "python",
     "metadata": {},
     "outputs": [
      {
       "metadata": {},
       "output_type": "pyout",
       "prompt_number": 65,
       "text": [
        "array([ 1,  2,  3,  4,  5,  6,  7,  8,  9, 10, 11, 12, 13, 14, 15, 16, 49,\n",
        "       50, 51, 52, 53, 54, 55, 56, 57, 58, 59, 60, 61, 62, 63, 64])"
       ]
      }
     ],
     "prompt_number": 65
    },
    {
     "cell_type": "code",
     "collapsed": false,
     "input": [
      "u_moves = np.unique(lm.significant_moves)"
     ],
     "language": "python",
     "metadata": {},
     "outputs": [],
     "prompt_number": 66
    },
    {
     "cell_type": "code",
     "collapsed": false,
     "input": [
      "n_u = len(u_moves)\n",
      "u_counts = np.zeros((n_u,2))\n",
      "for i,u in enumerate(u_moves):\n",
      "    u_counts[i,0] = u\n",
      "    u_counts[i,1] = sum(lm.significant_moves==u)"
     ],
     "language": "python",
     "metadata": {},
     "outputs": [],
     "prompt_number": 69
    },
    {
     "cell_type": "code",
     "collapsed": false,
     "input": [
      "u_counts"
     ],
     "language": "python",
     "metadata": {},
     "outputs": [
      {
       "metadata": {},
       "output_type": "pyout",
       "prompt_number": 70,
       "text": [
        "array([[   1.,  228.],\n",
        "       [   2.,   49.],\n",
        "       [   3.,    8.],\n",
        "       [   4.,   16.],\n",
        "       [   5.,   25.],\n",
        "       [   6.,   13.],\n",
        "       [   7.,   14.],\n",
        "       [   8.,    2.],\n",
        "       [   9.,   10.],\n",
        "       [  10.,   18.],\n",
        "       [  11.,  220.],\n",
        "       [  12.,   29.],\n",
        "       [  13.,    2.],\n",
        "       [  14.,    6.],\n",
        "       [  15.,   14.],\n",
        "       [  16.,   15.],\n",
        "       [  49.,  528.],\n",
        "       [  50.,  209.],\n",
        "       [  51.,   94.],\n",
        "       [  52.,   98.],\n",
        "       [  53.,  219.],\n",
        "       [  54.,  238.],\n",
        "       [  55.,  170.],\n",
        "       [  56.,   66.],\n",
        "       [  57.,   93.],\n",
        "       [  58.,  157.],\n",
        "       [  59.,  885.],\n",
        "       [  60.,  226.],\n",
        "       [  61.,  116.],\n",
        "       [  62.,   71.],\n",
        "       [  63.,  241.],\n",
        "       [  64.,  156.]])"
       ]
      }
     ],
     "prompt_number": 70
    },
    {
     "cell_type": "code",
     "collapsed": false,
     "input": [
      "lm.spillover??"
     ],
     "language": "python",
     "metadata": {},
     "outputs": [],
     "prompt_number": 82
    },
    {
     "cell_type": "code",
     "collapsed": false,
     "input": [
      "r = lm.spillover(neighbors_on=True)"
     ],
     "language": "python",
     "metadata": {},
     "outputs": [],
     "prompt_number": 83
    },
    {
     "cell_type": "code",
     "collapsed": false,
     "input": [
      "r"
     ],
     "language": "python",
     "metadata": {},
     "outputs": [
      {
       "metadata": {},
       "output_type": "pyout",
       "prompt_number": 84,
       "text": [
        "{'components': array([[ 0.,  0.,  0.,  0.],\n",
        "       [ 0.,  0.,  0.,  0.],\n",
        "       [ 0.,  0.,  0.,  0.],\n",
        "       ..., \n",
        "       [ 0.,  0.,  0.,  0.],\n",
        "       [ 0.,  0.,  0.,  0.],\n",
        "       [ 0.,  0.,  0.,  0.]]),\n",
        " 'spill_over': array([[ 0.,  0.,  0.],\n",
        "       [ 0.,  0.,  0.],\n",
        "       [ 0.,  0.,  0.],\n",
        "       ..., \n",
        "       [ 0.,  0.,  0.],\n",
        "       [ 0.,  0.,  0.],\n",
        "       [ 0.,  0.,  0.]])}"
       ]
      }
     ],
     "prompt_number": 84
    },
    {
     "cell_type": "code",
     "collapsed": false,
     "input": [
      "np.unique(r['components'][:,1])"
     ],
     "language": "python",
     "metadata": {},
     "outputs": [
      {
       "metadata": {},
       "output_type": "pyout",
       "prompt_number": 85,
       "text": [
        "array([ 0.,  1.,  2.,  3.,  4.,  5.,  6.])"
       ]
      }
     ],
     "prompt_number": 85
    },
    {
     "cell_type": "code",
     "collapsed": false,
     "input": [],
     "language": "python",
     "metadata": {},
     "outputs": []
    },
    {
     "cell_type": "code",
     "collapsed": false,
     "input": [
      "np.unique(r['components'][:,-2])"
     ],
     "language": "python",
     "metadata": {},
     "outputs": [
      {
       "metadata": {},
       "output_type": "pyout",
       "prompt_number": 81,
       "text": [
        "array([  0.,   1.,   2.,   3.,   4.,   5.,   6.,   7.,   8.,   9.,  10.,\n",
        "        11.,  12.,  13.,  14.])"
       ]
      }
     ],
     "prompt_number": 81
    },
    {
     "cell_type": "markdown",
     "metadata": {},
     "source": [
      "### Spatial Tau"
     ]
    },
    {
     "cell_type": "code",
     "collapsed": false,
     "input": [
      "st = [ ps.SpatialTau(hr_mat[:,y], hr_mat[:,y+1], wq) for y in range(3) ]"
     ],
     "language": "python",
     "metadata": {},
     "outputs": [],
     "prompt_number": 38
    },
    {
     "cell_type": "code",
     "collapsed": false,
     "input": [
      "st"
     ],
     "language": "python",
     "metadata": {},
     "outputs": [
      {
       "metadata": {},
       "output_type": "pyout",
       "prompt_number": 39,
       "text": [
        "[<pysal.spatial_dynamics.rank.SpatialTau instance at 0x10b3a20e0>,\n",
        " <pysal.spatial_dynamics.rank.SpatialTau instance at 0x10b2bc290>,\n",
        " <pysal.spatial_dynamics.rank.SpatialTau instance at 0x10b211950>]"
       ]
      }
     ],
     "prompt_number": 39
    },
    {
     "cell_type": "code",
     "collapsed": false,
     "input": [
      "st0 = st[0]"
     ],
     "language": "python",
     "metadata": {},
     "outputs": [],
     "prompt_number": 40
    },
    {
     "cell_type": "code",
     "collapsed": false,
     "input": [
      "st0.concordant"
     ],
     "language": "python",
     "metadata": {},
     "outputs": [
      {
       "metadata": {},
       "output_type": "pyout",
       "prompt_number": 41,
       "text": [
        "643871.0"
       ]
      }
     ],
     "prompt_number": 41
    },
    {
     "cell_type": "code",
     "collapsed": false,
     "input": [
      "st0.tau_p"
     ],
     "language": "python",
     "metadata": {},
     "outputs": [
      {
       "metadata": {},
       "output_type": "pyout",
       "prompt_number": 42,
       "text": [
        "1.0144886556810692e-71"
       ]
      }
     ],
     "prompt_number": 42
    },
    {
     "cell_type": "code",
     "collapsed": false,
     "input": [
      "st0.concordant"
     ],
     "language": "python",
     "metadata": {},
     "outputs": [
      {
       "metadata": {},
       "output_type": "pyout",
       "prompt_number": 43,
       "text": [
        "643871.0"
       ]
      }
     ],
     "prompt_number": 43
    },
    {
     "cell_type": "code",
     "collapsed": false,
     "input": [
      "st0.discordant"
     ],
     "language": "python",
     "metadata": {},
     "outputs": [
      {
       "metadata": {},
       "output_type": "pyout",
       "prompt_number": 44,
       "text": [
        "330746.0"
       ]
      }
     ],
     "prompt_number": 44
    },
    {
     "cell_type": "code",
     "collapsed": false,
     "input": [
      "wq.n"
     ],
     "language": "python",
     "metadata": {},
     "outputs": [
      {
       "metadata": {},
       "output_type": "pyout",
       "prompt_number": 45,
       "text": [
        "1412"
       ]
      }
     ],
     "prompt_number": 45
    },
    {
     "cell_type": "code",
     "collapsed": false,
     "input": [
      "1412*1411/2."
     ],
     "language": "python",
     "metadata": {},
     "outputs": [
      {
       "metadata": {},
       "output_type": "pyout",
       "prompt_number": 46,
       "text": [
        "996166.0"
       ]
      }
     ],
     "prompt_number": 46
    },
    {
     "cell_type": "code",
     "collapsed": false,
     "input": [
      "st0.extraX"
     ],
     "language": "python",
     "metadata": {},
     "outputs": [
      {
       "metadata": {},
       "output_type": "pyout",
       "prompt_number": 47,
       "text": [
        "5610.0"
       ]
      }
     ],
     "prompt_number": 47
    },
    {
     "cell_type": "code",
     "collapsed": false,
     "input": [
      "st0.extraY"
     ],
     "language": "python",
     "metadata": {},
     "outputs": [
      {
       "metadata": {},
       "output_type": "pyout",
       "prompt_number": 48,
       "text": [
        "13794"
       ]
      }
     ],
     "prompt_number": 48
    },
    {
     "cell_type": "code",
     "collapsed": false,
     "input": [
      "st0.extraX + st0.extraY + st0.concordant + st0.discordant"
     ],
     "language": "python",
     "metadata": {},
     "outputs": [
      {
       "metadata": {},
       "output_type": "pyout",
       "prompt_number": 49,
       "text": [
        "994021.0"
       ]
      }
     ],
     "prompt_number": 49
    },
    {
     "cell_type": "code",
     "collapsed": false,
     "input": [
      "st0.concordant_spatial"
     ],
     "language": "python",
     "metadata": {},
     "outputs": [
      {
       "metadata": {},
       "output_type": "pyout",
       "prompt_number": 50,
       "text": [
        "2201"
       ]
      }
     ],
     "prompt_number": 50
    },
    {
     "cell_type": "code",
     "collapsed": false,
     "input": [
      "st0.discordant_spatial"
     ],
     "language": "python",
     "metadata": {},
     "outputs": [
      {
       "metadata": {},
       "output_type": "pyout",
       "prompt_number": 51,
       "text": [
        "1669"
       ]
      }
     ],
     "prompt_number": 51
    },
    {
     "cell_type": "code",
     "collapsed": false,
     "input": [
      "wq.s0"
     ],
     "language": "python",
     "metadata": {},
     "outputs": [
      {
       "metadata": {},
       "output_type": "pyout",
       "prompt_number": 52,
       "text": [
        "8096.0"
       ]
      }
     ],
     "prompt_number": 52
    },
    {
     "cell_type": "code",
     "collapsed": false,
     "input": [
      "wq.s0/2"
     ],
     "language": "python",
     "metadata": {},
     "outputs": [
      {
       "metadata": {},
       "output_type": "pyout",
       "prompt_number": 53,
       "text": [
        "4048.0"
       ]
      }
     ],
     "prompt_number": 53
    },
    {
     "cell_type": "markdown",
     "metadata": {},
     "source": [
      "### Maps with folium"
     ]
    },
    {
     "cell_type": "code",
     "collapsed": false,
     "input": [
      "import folium\n",
      "map_osm = folium.Map(location=[33.7550, -84.3900], zoom_start=5)\n",
      "map_osm.geo_json(geo_path = 'data/south.json')\n",
      "map_osm.create_map(path='south_base.html')"
     ],
     "language": "python",
     "metadata": {},
     "outputs": [],
     "prompt_number": 54
    },
    {
     "cell_type": "markdown",
     "metadata": {},
     "source": [
      "This creates the file on the hardrive which we can see in a browser: http://localhost:8015/south_base.html"
     ]
    },
    {
     "cell_type": "code",
     "collapsed": false,
     "input": [
      "import json\n",
      "f = open('south.json')"
     ],
     "language": "python",
     "metadata": {},
     "outputs": [],
     "prompt_number": 55
    },
    {
     "cell_type": "code",
     "collapsed": false,
     "input": [
      "q = json.load(f)\n",
      "f.close()"
     ],
     "language": "python",
     "metadata": {},
     "outputs": [],
     "prompt_number": 56
    },
    {
     "cell_type": "code",
     "collapsed": false,
     "input": [
      "q.keys()"
     ],
     "language": "python",
     "metadata": {},
     "outputs": [
      {
       "metadata": {},
       "output_type": "pyout",
       "prompt_number": 57,
       "text": [
        "[u'type', u'features']"
       ]
      }
     ],
     "prompt_number": 57
    },
    {
     "cell_type": "code",
     "collapsed": false,
     "input": [
      "import pandas as pd"
     ],
     "language": "python",
     "metadata": {},
     "outputs": [],
     "prompt_number": 58
    },
    {
     "cell_type": "code",
     "collapsed": false,
     "input": [
      "indices = []\n",
      "series_dict = {}\n",
      "features = q['features']\n",
      "for hr_var in hr_vars:\n",
      "    series_dict[hr_var] = []\n",
      "for feature in features:\n",
      "    indices.append(str(feature['properties']['FIPS']))\n",
      "    for hr_var in hr_vars:\n",
      "        series_dict[hr_var].append(feature['properties'][hr_var])\n",
      "       "
     ],
     "language": "python",
     "metadata": {},
     "outputs": [],
     "prompt_number": 59
    },
    {
     "cell_type": "code",
     "collapsed": false,
     "input": [
      "for key in series_dict:\n",
      "    series_dict[key] = pd.Series(series_dict[key])\n",
      "df = pd.DataFrame(series_dict)"
     ],
     "language": "python",
     "metadata": {},
     "outputs": [],
     "prompt_number": 76
    },
    {
     "cell_type": "code",
     "collapsed": false,
     "input": [
      "df"
     ],
     "language": "python",
     "metadata": {},
     "outputs": [
      {
       "html": [
        "<pre>\n",
        "&lt;class 'pandas.core.frame.DataFrame'&gt;\n",
        "Int64Index: 1412 entries, 0 to 1411\n",
        "Data columns (total 4 columns):\n",
        "HR60    1412  non-null values\n",
        "HR70    1412  non-null values\n",
        "HR80    1412  non-null values\n",
        "HR90    1412  non-null values\n",
        "dtypes: float64(4)\n",
        "</pre>"
       ],
       "metadata": {},
       "output_type": "pyout",
       "prompt_number": 77,
       "text": [
        "<class 'pandas.core.frame.DataFrame'>\n",
        "Int64Index: 1412 entries, 0 to 1411\n",
        "Data columns (total 4 columns):\n",
        "HR60    1412  non-null values\n",
        "HR70    1412  non-null values\n",
        "HR80    1412  non-null values\n",
        "HR90    1412  non-null values\n",
        "dtypes: float64(4)"
       ]
      }
     ],
     "prompt_number": 77
    },
    {
     "cell_type": "code",
     "collapsed": false,
     "input": [
      "df['FIPS'] = indices"
     ],
     "language": "python",
     "metadata": {},
     "outputs": [],
     "prompt_number": 78
    },
    {
     "cell_type": "code",
     "collapsed": false,
     "input": [
      "df"
     ],
     "language": "python",
     "metadata": {},
     "outputs": [
      {
       "html": [
        "<pre>\n",
        "&lt;class 'pandas.core.frame.DataFrame'&gt;\n",
        "Int64Index: 1412 entries, 0 to 1411\n",
        "Data columns (total 5 columns):\n",
        "HR60    1412  non-null values\n",
        "HR70    1412  non-null values\n",
        "HR80    1412  non-null values\n",
        "HR90    1412  non-null values\n",
        "FIPS    1412  non-null values\n",
        "dtypes: float64(4), object(1)\n",
        "</pre>"
       ],
       "metadata": {},
       "output_type": "pyout",
       "prompt_number": 79,
       "text": [
        "<class 'pandas.core.frame.DataFrame'>\n",
        "Int64Index: 1412 entries, 0 to 1411\n",
        "Data columns (total 5 columns):\n",
        "HR60    1412  non-null values\n",
        "HR70    1412  non-null values\n",
        "HR80    1412  non-null values\n",
        "HR90    1412  non-null values\n",
        "FIPS    1412  non-null values\n",
        "dtypes: float64(4), object(1)"
       ]
      }
     ],
     "prompt_number": 79
    },
    {
     "cell_type": "code",
     "collapsed": false,
     "input": [
      "df['FIPS']"
     ],
     "language": "python",
     "metadata": {},
     "outputs": [
      {
       "metadata": {},
       "output_type": "pyout",
       "prompt_number": 80,
       "text": [
        "0     54029\n",
        "1     54009\n",
        "2     54069\n",
        "3     54051\n",
        "4     10003\n",
        "5     24043\n",
        "6     24001\n",
        "7     24015\n",
        "8     24023\n",
        "9     24025\n",
        "10    54061\n",
        "11    54077\n",
        "12    24013\n",
        "13    24005\n",
        "14    54103\n",
        "...\n",
        "1397    12021\n",
        "1398    48061\n",
        "1399    12011\n",
        "1400    12025\n",
        "1401    12087\n",
        "1402    51019\n",
        "1403    51710\n",
        "1404    51081\n",
        "1405    51059\n",
        "1406    51175\n",
        "1407    51083\n",
        "1408    51163\n",
        "1409    51161\n",
        "1410    51199\n",
        "1411    51153\n",
        "Name: FIPS, Length: 1412, dtype: object"
       ]
      }
     ],
     "prompt_number": 80
    },
    {
     "cell_type": "code",
     "collapsed": false,
     "input": [
      "map_osm = folium.Map(location=[33.7550, -84.3900], zoom_start=5,)\n",
      "map_osm.geo_json(geo_path='south.json',\n",
      "                 key_on='feature.properties.FIPS',\n",
      "                 data_out='data.json', data=df,\n",
      "                 columns=['FIPS','HR80'],\n",
      "                 fill_color='YlGn', fill_opacity=0.7,\n",
      "                 line_opacity=0.2,\n",
      "                 legend_name='Homicide Rate HR80')\n",
      "map_osm.create_map('homicide_80.html')"
     ],
     "language": "python",
     "metadata": {},
     "outputs": [],
     "prompt_number": 81
    },
    {
     "cell_type": "markdown",
     "metadata": {},
     "source": [
      "http://localhost:8015/homicide_80.html"
     ]
    },
    {
     "cell_type": "markdown",
     "metadata": {},
     "source": [
      "### In the browser"
     ]
    },
    {
     "cell_type": "code",
     "collapsed": false,
     "input": [
      "#Function that shows the map - call this functionto redraw the map.\n",
      "from IPython.display import HTML\n",
      "def showmap(name):\n",
      "    sint = str(random.randint(0,10000))\n",
      "    out_file = name+\"_\"+sint+\".html\"\n",
      "    map_osm.create_map(path=out_file)\n",
      "    iframe = \"<iframe src=http://localhost:8015/%s width=1000 height=500></iframe>\"%out_file\n",
      "    print iframe\n",
      "    return HTML(iframe)\n",
      "\n",
      "def resetmap():\n",
      "    return folium.Map(location=[40, -99], zoom_start=4)\n",
      "\n",
      "map_osm = resetmap()\n",
      "showmap('map_0')"
     ],
     "language": "python",
     "metadata": {},
     "outputs": [
      {
       "output_type": "stream",
       "stream": "stdout",
       "text": [
        "<iframe src=http://localhost:8015/map_0_2854.html width=1000 height=500></iframe>\n"
       ]
      },
      {
       "html": [
        "<iframe src=http://localhost:8015/map_0_2854.html width=1000 height=500></iframe>"
       ],
       "metadata": {},
       "output_type": "pyout",
       "prompt_number": 83,
       "text": [
        "<IPython.core.display.HTML at 0x10b2e2fd0>"
       ]
      }
     ],
     "prompt_number": 83
    },
    {
     "cell_type": "code",
     "collapsed": true,
     "input": [
      "bins = ps.Quantiles(df['HR60'], 5).bins.tolist()\n",
      "map_osm = folium.Map(location=[33.7550, -84.3900], zoom_start=4,)\n",
      "map_osm.geo_json(geo_path='south.json',\n",
      "                 key_on='feature.properties.FIPS',\n",
      "                 data_out='data.json', data=df,\n",
      "                 columns=['FIPS','HR60'],\n",
      "                 fill_color='YlGn', fill_opacity=0.7,\n",
      "                 line_opacity=0.2,\n",
      "                 threshold_scale=bins[:-1],\n",
      "                 legend_name='Homicide Rate HR60 (Quintiles)')\n",
      "showmap('test')"
     ],
     "language": "python",
     "metadata": {},
     "outputs": [
      {
       "output_type": "stream",
       "stream": "stdout",
       "text": [
        "<iframe src=http://localhost:8015/test_2180.html width=1000 height=500></iframe>\n"
       ]
      },
      {
       "html": [
        "<iframe src=http://localhost:8015/test_2180.html width=1000 height=500></iframe>"
       ],
       "metadata": {},
       "output_type": "pyout",
       "prompt_number": 88,
       "text": [
        "<IPython.core.display.HTML at 0x10cd77150>"
       ]
      }
     ],
     "prompt_number": 88
    },
    {
     "cell_type": "code",
     "collapsed": false,
     "input": [
      "\n",
      "bins"
     ],
     "language": "python",
     "metadata": {},
     "outputs": [
      {
       "metadata": {},
       "output_type": "pyout",
       "prompt_number": 75,
       "text": [
        "array([  2.497,   5.104,   7.621,  10.981,  92.937])"
       ]
      }
     ],
     "prompt_number": 75
    },
    {
     "cell_type": "code",
     "collapsed": false,
     "input": [
      "df['HR60'].max()"
     ],
     "language": "python",
     "metadata": {},
     "outputs": [
      {
       "metadata": {},
       "output_type": "pyout",
       "prompt_number": 73,
       "text": [
        "92.936802974000003"
       ]
      }
     ],
     "prompt_number": 73
    },
    {
     "cell_type": "code",
     "collapsed": false,
     "input": [],
     "language": "python",
     "metadata": {},
     "outputs": []
    }
   ],
   "metadata": {}
  }
 ]
}